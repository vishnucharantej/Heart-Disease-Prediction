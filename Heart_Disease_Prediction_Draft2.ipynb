{
  "nbformat": 4,
  "nbformat_minor": 0,
  "metadata": {
    "colab": {
      "provenance": []
    },
    "kernelspec": {
      "name": "python3",
      "display_name": "Python 3"
    },
    "language_info": {
      "name": "python"
    }
  },
  "cells": [
    {
      "cell_type": "markdown",
      "source": [
        "Heart Disease Prediction by B.Vishnu Charan Tej\n",
        "Python · UCI Heart Disease Data"
      ],
      "metadata": {
        "id": "c7FBEMFHUjw9"
      }
    },
    {
      "cell_type": "markdown",
      "source": [
        "Meta-Data (About Dataset)"
      ],
      "metadata": {
        "id": "t00QYlnkVaY0"
      }
    },
    {
      "cell_type": "markdown",
      "source": [
        "Context:\n",
        "This is a multivariate type of dataset which means providing or involving a variety of separate mathematical or statistical variables, multivariate numerical data analysis. It is composed of 16 attributes which are age, sex, chest pain type, resting blood pressure, serum cholesterol, fasting blood sugar, resting electrocardiographic results, maximum heart rate achieved, exercise-induced angina, oldpeak — ST depression induced by exercise relative to rest, the slope of the peak exercise ST segment, number of major vessels and Thalassemia. . The Cleveland database is the only one used by ML researchers to date. One of the major tasks on this dataset is to predict based on the given attributes of a patient that whether that particular person has heart disease or not and other is the experimental task to diagnose and find out various insights from this dataset which could help in understanding the problem more."
      ],
      "metadata": {
        "id": "S1Zaz1dQVgpy"
      }
    },
    {
      "cell_type": "markdown",
      "source": [
        "Content :"
      ],
      "metadata": {
        "id": "34fLNkKl5XYi"
      }
    },
    {
      "cell_type": "markdown",
      "source": [
        "Column Descriptions:\n",
        "\n",
        "\n",
        "*  id (Unique id for each patient)\n",
        "\n",
        "*  age (Age of the patient in years)\n",
        "\n",
        "*  dataset (place of study)\n",
        "\n",
        "*  sex (Male/Female)\n",
        "\n",
        "*   cp chest pain type\n",
        "       typical angina,\n",
        "       atypical angina,\n",
        "       non-anginal,\n",
        "       asymptomatic\n",
        "*   trestbps resting blood pressure\n",
        "    (resting blood pressure (in mm Hg on admission to the hospital))\n",
        "\n",
        "\n",
        "*   chol (serum cholesterol in mg/dl)\n",
        "\n",
        "\n",
        "*   fbs (if fasting blood sugar > 120 mg/ dl)\n",
        "\n",
        "*   restecg (resting electrocardiographic re\n",
        "\n",
        "\n",
        "*   thalch: maximum heart rate achieved\n",
        "\n",
        "*  exang: exercise-induced angina (True/ False)\n",
        "*  oldpeak: ST depression induced by exercise rela\n",
        "\n",
        "\n",
        "*  slope: the slope of the peak exercise ST segme\n",
        "\n",
        "*  ca: number of major vessels (0-3) colored b\n",
        "\n",
        "*  thal: [normal; fixed defect; reversible defect]\n",
        "*  num: the predicted attribute\n",
        "\n",
        "\n",
        "\n",
        "\n",
        "\n",
        "\n",
        "\n",
        "\n",
        "\n",
        "\n",
        "\n",
        "\n"
      ],
      "metadata": {
        "id": "qTQ5CPY05awd"
      }
    },
    {
      "cell_type": "markdown",
      "source": [
        "Feature that we will be using in Machine Learning Models building"
      ],
      "metadata": {
        "id": "39I6of5bZnZT"
      }
    },
    {
      "cell_type": "markdown",
      "source": [
        "The Targeted column is num which is the predicted attribute. We will use this column to predict the heart disease. The unique values in this column are: [0,1,2,3,4], which states that there are 5 types of heart diseases.\n",
        "\n",
        "0 = no heart disease.\n",
        "1 = Mild Heart Disease types.\n",
        "2 = Moderate Heart Disease type.\n",
        "3 =  Severe Heart Disease type.\n",
        "4 =  Critical Heart Disease type."
      ],
      "metadata": {
        "id": "pj3KrDHjZqKN"
      }
    },
    {
      "cell_type": "markdown",
      "source": [
        "importing libraries\n"
      ],
      "metadata": {
        "id": "M1AQEaBGRpcK"
      }
    },
    {
      "cell_type": "code",
      "source": [
        "# 1. to handle the data\n",
        "import pandas as pd\n",
        "import numpy as np\n",
        "\n",
        "# 2. To Viusalize the data\n",
        "import matplotlib.pyplot as plt\n",
        "import seaborn as sns\n",
        "\n",
        "# 3. To preprocess the data\n",
        "from sklearn.preprocessing import LabelEncoder\n",
        "from sklearn.impute import SimpleImputer# KNNImputer\n",
        "\n",
        "# 4. import Iterative imputer\n",
        "from sklearn.experimental import enable_iterative_imputer\n",
        "from sklearn.impute import IterativeImputer\n",
        "\n",
        "# 5. Machine Learning\n",
        "from sklearn.model_selection import train_test_split,cross_val_score\n",
        "\n",
        "# 6. For Classification task.\n",
        "from sklearn.neighbors import KNeighborsClassifier\n",
        "from sklearn.ensemble import RandomForestClassifier\n",
        "from xgboost import XGBClassifier\n",
        "\n",
        "# 7. Metrics\n",
        "from sklearn.metrics import accuracy_score, classification_report\n",
        "\n",
        "# 8. Ignore warnings\n",
        "import warnings\n",
        "warnings.filterwarnings('ignore')\n",
        "\n",
        "#9.for building predictive sysytem task\n",
        "from sklearn.preprocessing import OneHotEncoder\n",
        "from sklearn.compose import ColumnTransformer\n",
        "from sklearn.pipeline import Pipeline\n",
        "\n",
        "\n"
      ],
      "metadata": {
        "id": "XNUFMXCORLlF"
      },
      "execution_count": null,
      "outputs": []
    },
    {
      "cell_type": "markdown",
      "source": [
        "data loading\n",
        "\n"
      ],
      "metadata": {
        "id": "LRKAvPOab2c2"
      }
    },
    {
      "cell_type": "code",
      "source": [
        "#Read the dataset\n",
        "df = pd.read_csv(\"/content/drive/MyDrive/heart_disease_uci.csv\")\n",
        "df.head()"
      ],
      "metadata": {
        "colab": {
          "base_uri": "https://localhost:8080/",
          "height": 295
        },
        "id": "5ES5ZHcCc-Ym",
        "outputId": "ec1815dd-e7a6-4403-cd51-1a7b1a61bdae"
      },
      "execution_count": null,
      "outputs": [
        {
          "output_type": "execute_result",
          "data": {
            "text/plain": [
              "   id  age     sex    dataset               cp  trestbps   chol    fbs  \\\n",
              "0   1   63    Male  Cleveland   typical angina     145.0  233.0   True   \n",
              "1   2   67    Male  Cleveland     asymptomatic     160.0  286.0  False   \n",
              "2   3   67    Male  Cleveland     asymptomatic     120.0  229.0  False   \n",
              "3   4   37    Male  Cleveland      non-anginal     130.0  250.0  False   \n",
              "4   5   41  Female  Cleveland  atypical angina     130.0  204.0  False   \n",
              "\n",
              "          restecg  thalch  exang  oldpeak        slope   ca  \\\n",
              "0  lv hypertrophy   150.0  False      2.3  downsloping  0.0   \n",
              "1  lv hypertrophy   108.0   True      1.5         flat  3.0   \n",
              "2  lv hypertrophy   129.0   True      2.6         flat  2.0   \n",
              "3          normal   187.0  False      3.5  downsloping  0.0   \n",
              "4  lv hypertrophy   172.0  False      1.4    upsloping  0.0   \n",
              "\n",
              "                thal  num  \n",
              "0       fixed defect    0  \n",
              "1             normal    2  \n",
              "2  reversable defect    1  \n",
              "3             normal    0  \n",
              "4             normal    0  "
            ],
            "text/html": [
              "\n",
              "  <div id=\"df-b7b35fb2-9696-43e2-8a68-fe83e1be2f0d\" class=\"colab-df-container\">\n",
              "    <div>\n",
              "<style scoped>\n",
              "    .dataframe tbody tr th:only-of-type {\n",
              "        vertical-align: middle;\n",
              "    }\n",
              "\n",
              "    .dataframe tbody tr th {\n",
              "        vertical-align: top;\n",
              "    }\n",
              "\n",
              "    .dataframe thead th {\n",
              "        text-align: right;\n",
              "    }\n",
              "</style>\n",
              "<table border=\"1\" class=\"dataframe\">\n",
              "  <thead>\n",
              "    <tr style=\"text-align: right;\">\n",
              "      <th></th>\n",
              "      <th>id</th>\n",
              "      <th>age</th>\n",
              "      <th>sex</th>\n",
              "      <th>dataset</th>\n",
              "      <th>cp</th>\n",
              "      <th>trestbps</th>\n",
              "      <th>chol</th>\n",
              "      <th>fbs</th>\n",
              "      <th>restecg</th>\n",
              "      <th>thalch</th>\n",
              "      <th>exang</th>\n",
              "      <th>oldpeak</th>\n",
              "      <th>slope</th>\n",
              "      <th>ca</th>\n",
              "      <th>thal</th>\n",
              "      <th>num</th>\n",
              "    </tr>\n",
              "  </thead>\n",
              "  <tbody>\n",
              "    <tr>\n",
              "      <th>0</th>\n",
              "      <td>1</td>\n",
              "      <td>63</td>\n",
              "      <td>Male</td>\n",
              "      <td>Cleveland</td>\n",
              "      <td>typical angina</td>\n",
              "      <td>145.0</td>\n",
              "      <td>233.0</td>\n",
              "      <td>True</td>\n",
              "      <td>lv hypertrophy</td>\n",
              "      <td>150.0</td>\n",
              "      <td>False</td>\n",
              "      <td>2.3</td>\n",
              "      <td>downsloping</td>\n",
              "      <td>0.0</td>\n",
              "      <td>fixed defect</td>\n",
              "      <td>0</td>\n",
              "    </tr>\n",
              "    <tr>\n",
              "      <th>1</th>\n",
              "      <td>2</td>\n",
              "      <td>67</td>\n",
              "      <td>Male</td>\n",
              "      <td>Cleveland</td>\n",
              "      <td>asymptomatic</td>\n",
              "      <td>160.0</td>\n",
              "      <td>286.0</td>\n",
              "      <td>False</td>\n",
              "      <td>lv hypertrophy</td>\n",
              "      <td>108.0</td>\n",
              "      <td>True</td>\n",
              "      <td>1.5</td>\n",
              "      <td>flat</td>\n",
              "      <td>3.0</td>\n",
              "      <td>normal</td>\n",
              "      <td>2</td>\n",
              "    </tr>\n",
              "    <tr>\n",
              "      <th>2</th>\n",
              "      <td>3</td>\n",
              "      <td>67</td>\n",
              "      <td>Male</td>\n",
              "      <td>Cleveland</td>\n",
              "      <td>asymptomatic</td>\n",
              "      <td>120.0</td>\n",
              "      <td>229.0</td>\n",
              "      <td>False</td>\n",
              "      <td>lv hypertrophy</td>\n",
              "      <td>129.0</td>\n",
              "      <td>True</td>\n",
              "      <td>2.6</td>\n",
              "      <td>flat</td>\n",
              "      <td>2.0</td>\n",
              "      <td>reversable defect</td>\n",
              "      <td>1</td>\n",
              "    </tr>\n",
              "    <tr>\n",
              "      <th>3</th>\n",
              "      <td>4</td>\n",
              "      <td>37</td>\n",
              "      <td>Male</td>\n",
              "      <td>Cleveland</td>\n",
              "      <td>non-anginal</td>\n",
              "      <td>130.0</td>\n",
              "      <td>250.0</td>\n",
              "      <td>False</td>\n",
              "      <td>normal</td>\n",
              "      <td>187.0</td>\n",
              "      <td>False</td>\n",
              "      <td>3.5</td>\n",
              "      <td>downsloping</td>\n",
              "      <td>0.0</td>\n",
              "      <td>normal</td>\n",
              "      <td>0</td>\n",
              "    </tr>\n",
              "    <tr>\n",
              "      <th>4</th>\n",
              "      <td>5</td>\n",
              "      <td>41</td>\n",
              "      <td>Female</td>\n",
              "      <td>Cleveland</td>\n",
              "      <td>atypical angina</td>\n",
              "      <td>130.0</td>\n",
              "      <td>204.0</td>\n",
              "      <td>False</td>\n",
              "      <td>lv hypertrophy</td>\n",
              "      <td>172.0</td>\n",
              "      <td>False</td>\n",
              "      <td>1.4</td>\n",
              "      <td>upsloping</td>\n",
              "      <td>0.0</td>\n",
              "      <td>normal</td>\n",
              "      <td>0</td>\n",
              "    </tr>\n",
              "  </tbody>\n",
              "</table>\n",
              "</div>\n",
              "    <div class=\"colab-df-buttons\">\n",
              "\n",
              "  <div class=\"colab-df-container\">\n",
              "    <button class=\"colab-df-convert\" onclick=\"convertToInteractive('df-b7b35fb2-9696-43e2-8a68-fe83e1be2f0d')\"\n",
              "            title=\"Convert this dataframe to an interactive table.\"\n",
              "            style=\"display:none;\">\n",
              "\n",
              "  <svg xmlns=\"http://www.w3.org/2000/svg\" height=\"24px\" viewBox=\"0 -960 960 960\">\n",
              "    <path d=\"M120-120v-720h720v720H120Zm60-500h600v-160H180v160Zm220 220h160v-160H400v160Zm0 220h160v-160H400v160ZM180-400h160v-160H180v160Zm440 0h160v-160H620v160ZM180-180h160v-160H180v160Zm440 0h160v-160H620v160Z\"/>\n",
              "  </svg>\n",
              "    </button>\n",
              "\n",
              "  <style>\n",
              "    .colab-df-container {\n",
              "      display:flex;\n",
              "      gap: 12px;\n",
              "    }\n",
              "\n",
              "    .colab-df-convert {\n",
              "      background-color: #E8F0FE;\n",
              "      border: none;\n",
              "      border-radius: 50%;\n",
              "      cursor: pointer;\n",
              "      display: none;\n",
              "      fill: #1967D2;\n",
              "      height: 32px;\n",
              "      padding: 0 0 0 0;\n",
              "      width: 32px;\n",
              "    }\n",
              "\n",
              "    .colab-df-convert:hover {\n",
              "      background-color: #E2EBFA;\n",
              "      box-shadow: 0px 1px 2px rgba(60, 64, 67, 0.3), 0px 1px 3px 1px rgba(60, 64, 67, 0.15);\n",
              "      fill: #174EA6;\n",
              "    }\n",
              "\n",
              "    .colab-df-buttons div {\n",
              "      margin-bottom: 4px;\n",
              "    }\n",
              "\n",
              "    [theme=dark] .colab-df-convert {\n",
              "      background-color: #3B4455;\n",
              "      fill: #D2E3FC;\n",
              "    }\n",
              "\n",
              "    [theme=dark] .colab-df-convert:hover {\n",
              "      background-color: #434B5C;\n",
              "      box-shadow: 0px 1px 3px 1px rgba(0, 0, 0, 0.15);\n",
              "      filter: drop-shadow(0px 1px 2px rgba(0, 0, 0, 0.3));\n",
              "      fill: #FFFFFF;\n",
              "    }\n",
              "  </style>\n",
              "\n",
              "    <script>\n",
              "      const buttonEl =\n",
              "        document.querySelector('#df-b7b35fb2-9696-43e2-8a68-fe83e1be2f0d button.colab-df-convert');\n",
              "      buttonEl.style.display =\n",
              "        google.colab.kernel.accessAllowed ? 'block' : 'none';\n",
              "\n",
              "      async function convertToInteractive(key) {\n",
              "        const element = document.querySelector('#df-b7b35fb2-9696-43e2-8a68-fe83e1be2f0d');\n",
              "        const dataTable =\n",
              "          await google.colab.kernel.invokeFunction('convertToInteractive',\n",
              "                                                    [key], {});\n",
              "        if (!dataTable) return;\n",
              "\n",
              "        const docLinkHtml = 'Like what you see? Visit the ' +\n",
              "          '<a target=\"_blank\" href=https://colab.research.google.com/notebooks/data_table.ipynb>data table notebook</a>'\n",
              "          + ' to learn more about interactive tables.';\n",
              "        element.innerHTML = '';\n",
              "        dataTable['output_type'] = 'display_data';\n",
              "        await google.colab.output.renderOutput(dataTable, element);\n",
              "        const docLink = document.createElement('div');\n",
              "        docLink.innerHTML = docLinkHtml;\n",
              "        element.appendChild(docLink);\n",
              "      }\n",
              "    </script>\n",
              "  </div>\n",
              "\n",
              "\n",
              "<div id=\"df-9fb95220-4b7f-4af6-a1d3-dcb3c67713db\">\n",
              "  <button class=\"colab-df-quickchart\" onclick=\"quickchart('df-9fb95220-4b7f-4af6-a1d3-dcb3c67713db')\"\n",
              "            title=\"Suggest charts\"\n",
              "            style=\"display:none;\">\n",
              "\n",
              "<svg xmlns=\"http://www.w3.org/2000/svg\" height=\"24px\"viewBox=\"0 0 24 24\"\n",
              "     width=\"24px\">\n",
              "    <g>\n",
              "        <path d=\"M19 3H5c-1.1 0-2 .9-2 2v14c0 1.1.9 2 2 2h14c1.1 0 2-.9 2-2V5c0-1.1-.9-2-2-2zM9 17H7v-7h2v7zm4 0h-2V7h2v10zm4 0h-2v-4h2v4z\"/>\n",
              "    </g>\n",
              "</svg>\n",
              "  </button>\n",
              "\n",
              "<style>\n",
              "  .colab-df-quickchart {\n",
              "      --bg-color: #E8F0FE;\n",
              "      --fill-color: #1967D2;\n",
              "      --hover-bg-color: #E2EBFA;\n",
              "      --hover-fill-color: #174EA6;\n",
              "      --disabled-fill-color: #AAA;\n",
              "      --disabled-bg-color: #DDD;\n",
              "  }\n",
              "\n",
              "  [theme=dark] .colab-df-quickchart {\n",
              "      --bg-color: #3B4455;\n",
              "      --fill-color: #D2E3FC;\n",
              "      --hover-bg-color: #434B5C;\n",
              "      --hover-fill-color: #FFFFFF;\n",
              "      --disabled-bg-color: #3B4455;\n",
              "      --disabled-fill-color: #666;\n",
              "  }\n",
              "\n",
              "  .colab-df-quickchart {\n",
              "    background-color: var(--bg-color);\n",
              "    border: none;\n",
              "    border-radius: 50%;\n",
              "    cursor: pointer;\n",
              "    display: none;\n",
              "    fill: var(--fill-color);\n",
              "    height: 32px;\n",
              "    padding: 0;\n",
              "    width: 32px;\n",
              "  }\n",
              "\n",
              "  .colab-df-quickchart:hover {\n",
              "    background-color: var(--hover-bg-color);\n",
              "    box-shadow: 0 1px 2px rgba(60, 64, 67, 0.3), 0 1px 3px 1px rgba(60, 64, 67, 0.15);\n",
              "    fill: var(--button-hover-fill-color);\n",
              "  }\n",
              "\n",
              "  .colab-df-quickchart-complete:disabled,\n",
              "  .colab-df-quickchart-complete:disabled:hover {\n",
              "    background-color: var(--disabled-bg-color);\n",
              "    fill: var(--disabled-fill-color);\n",
              "    box-shadow: none;\n",
              "  }\n",
              "\n",
              "  .colab-df-spinner {\n",
              "    border: 2px solid var(--fill-color);\n",
              "    border-color: transparent;\n",
              "    border-bottom-color: var(--fill-color);\n",
              "    animation:\n",
              "      spin 1s steps(1) infinite;\n",
              "  }\n",
              "\n",
              "  @keyframes spin {\n",
              "    0% {\n",
              "      border-color: transparent;\n",
              "      border-bottom-color: var(--fill-color);\n",
              "      border-left-color: var(--fill-color);\n",
              "    }\n",
              "    20% {\n",
              "      border-color: transparent;\n",
              "      border-left-color: var(--fill-color);\n",
              "      border-top-color: var(--fill-color);\n",
              "    }\n",
              "    30% {\n",
              "      border-color: transparent;\n",
              "      border-left-color: var(--fill-color);\n",
              "      border-top-color: var(--fill-color);\n",
              "      border-right-color: var(--fill-color);\n",
              "    }\n",
              "    40% {\n",
              "      border-color: transparent;\n",
              "      border-right-color: var(--fill-color);\n",
              "      border-top-color: var(--fill-color);\n",
              "    }\n",
              "    60% {\n",
              "      border-color: transparent;\n",
              "      border-right-color: var(--fill-color);\n",
              "    }\n",
              "    80% {\n",
              "      border-color: transparent;\n",
              "      border-right-color: var(--fill-color);\n",
              "      border-bottom-color: var(--fill-color);\n",
              "    }\n",
              "    90% {\n",
              "      border-color: transparent;\n",
              "      border-bottom-color: var(--fill-color);\n",
              "    }\n",
              "  }\n",
              "</style>\n",
              "\n",
              "  <script>\n",
              "    async function quickchart(key) {\n",
              "      const quickchartButtonEl =\n",
              "        document.querySelector('#' + key + ' button');\n",
              "      quickchartButtonEl.disabled = true;  // To prevent multiple clicks.\n",
              "      quickchartButtonEl.classList.add('colab-df-spinner');\n",
              "      try {\n",
              "        const charts = await google.colab.kernel.invokeFunction(\n",
              "            'suggestCharts', [key], {});\n",
              "      } catch (error) {\n",
              "        console.error('Error during call to suggestCharts:', error);\n",
              "      }\n",
              "      quickchartButtonEl.classList.remove('colab-df-spinner');\n",
              "      quickchartButtonEl.classList.add('colab-df-quickchart-complete');\n",
              "    }\n",
              "    (() => {\n",
              "      let quickchartButtonEl =\n",
              "        document.querySelector('#df-9fb95220-4b7f-4af6-a1d3-dcb3c67713db button');\n",
              "      quickchartButtonEl.style.display =\n",
              "        google.colab.kernel.accessAllowed ? 'block' : 'none';\n",
              "    })();\n",
              "  </script>\n",
              "</div>\n",
              "\n",
              "    </div>\n",
              "  </div>\n"
            ],
            "application/vnd.google.colaboratory.intrinsic+json": {
              "type": "dataframe",
              "variable_name": "df",
              "summary": "{\n  \"name\": \"df\",\n  \"rows\": 920,\n  \"fields\": [\n    {\n      \"column\": \"id\",\n      \"properties\": {\n        \"dtype\": \"number\",\n        \"std\": 265,\n        \"min\": 1,\n        \"max\": 920,\n        \"num_unique_values\": 920,\n        \"samples\": [\n          320,\n          378,\n          539\n        ],\n        \"semantic_type\": \"\",\n        \"description\": \"\"\n      }\n    },\n    {\n      \"column\": \"age\",\n      \"properties\": {\n        \"dtype\": \"number\",\n        \"std\": 9,\n        \"min\": 28,\n        \"max\": 77,\n        \"num_unique_values\": 50,\n        \"samples\": [\n          64,\n          74,\n          39\n        ],\n        \"semantic_type\": \"\",\n        \"description\": \"\"\n      }\n    },\n    {\n      \"column\": \"sex\",\n      \"properties\": {\n        \"dtype\": \"category\",\n        \"num_unique_values\": 2,\n        \"samples\": [\n          \"Female\",\n          \"Male\"\n        ],\n        \"semantic_type\": \"\",\n        \"description\": \"\"\n      }\n    },\n    {\n      \"column\": \"dataset\",\n      \"properties\": {\n        \"dtype\": \"category\",\n        \"num_unique_values\": 4,\n        \"samples\": [\n          \"Hungary\",\n          \"VA Long Beach\"\n        ],\n        \"semantic_type\": \"\",\n        \"description\": \"\"\n      }\n    },\n    {\n      \"column\": \"cp\",\n      \"properties\": {\n        \"dtype\": \"category\",\n        \"num_unique_values\": 4,\n        \"samples\": [\n          \"asymptomatic\",\n          \"atypical angina\"\n        ],\n        \"semantic_type\": \"\",\n        \"description\": \"\"\n      }\n    },\n    {\n      \"column\": \"trestbps\",\n      \"properties\": {\n        \"dtype\": \"number\",\n        \"std\": 19.066069518587476,\n        \"min\": 0.0,\n        \"max\": 200.0,\n        \"num_unique_values\": 61,\n        \"samples\": [\n          145.0,\n          172.0\n        ],\n        \"semantic_type\": \"\",\n        \"description\": \"\"\n      }\n    },\n    {\n      \"column\": \"chol\",\n      \"properties\": {\n        \"dtype\": \"number\",\n        \"std\": 110.7808103532305,\n        \"min\": 0.0,\n        \"max\": 603.0,\n        \"num_unique_values\": 217,\n        \"samples\": [\n          384.0,\n          333.0\n        ],\n        \"semantic_type\": \"\",\n        \"description\": \"\"\n      }\n    },\n    {\n      \"column\": \"fbs\",\n      \"properties\": {\n        \"dtype\": \"category\",\n        \"num_unique_values\": 2,\n        \"samples\": [\n          false,\n          true\n        ],\n        \"semantic_type\": \"\",\n        \"description\": \"\"\n      }\n    },\n    {\n      \"column\": \"restecg\",\n      \"properties\": {\n        \"dtype\": \"category\",\n        \"num_unique_values\": 3,\n        \"samples\": [\n          \"lv hypertrophy\",\n          \"normal\"\n        ],\n        \"semantic_type\": \"\",\n        \"description\": \"\"\n      }\n    },\n    {\n      \"column\": \"thalch\",\n      \"properties\": {\n        \"dtype\": \"number\",\n        \"std\": 25.926276492797594,\n        \"min\": 60.0,\n        \"max\": 202.0,\n        \"num_unique_values\": 119,\n        \"samples\": [\n          185.0,\n          134.0\n        ],\n        \"semantic_type\": \"\",\n        \"description\": \"\"\n      }\n    },\n    {\n      \"column\": \"exang\",\n      \"properties\": {\n        \"dtype\": \"category\",\n        \"num_unique_values\": 2,\n        \"samples\": [\n          true,\n          false\n        ],\n        \"semantic_type\": \"\",\n        \"description\": \"\"\n      }\n    },\n    {\n      \"column\": \"oldpeak\",\n      \"properties\": {\n        \"dtype\": \"number\",\n        \"std\": 1.0912262483465298,\n        \"min\": -2.6,\n        \"max\": 6.2,\n        \"num_unique_values\": 53,\n        \"samples\": [\n          2.4,\n          -1.1\n        ],\n        \"semantic_type\": \"\",\n        \"description\": \"\"\n      }\n    },\n    {\n      \"column\": \"slope\",\n      \"properties\": {\n        \"dtype\": \"category\",\n        \"num_unique_values\": 3,\n        \"samples\": [\n          \"downsloping\",\n          \"flat\"\n        ],\n        \"semantic_type\": \"\",\n        \"description\": \"\"\n      }\n    },\n    {\n      \"column\": \"ca\",\n      \"properties\": {\n        \"dtype\": \"number\",\n        \"std\": 0.935653012559987,\n        \"min\": 0.0,\n        \"max\": 3.0,\n        \"num_unique_values\": 4,\n        \"samples\": [\n          3.0,\n          1.0\n        ],\n        \"semantic_type\": \"\",\n        \"description\": \"\"\n      }\n    },\n    {\n      \"column\": \"thal\",\n      \"properties\": {\n        \"dtype\": \"category\",\n        \"num_unique_values\": 3,\n        \"samples\": [\n          \"fixed defect\",\n          \"normal\"\n        ],\n        \"semantic_type\": \"\",\n        \"description\": \"\"\n      }\n    },\n    {\n      \"column\": \"num\",\n      \"properties\": {\n        \"dtype\": \"number\",\n        \"std\": 1,\n        \"min\": 0,\n        \"max\": 4,\n        \"num_unique_values\": 5,\n        \"samples\": [\n          2,\n          4\n        ],\n        \"semantic_type\": \"\",\n        \"description\": \"\"\n      }\n    }\n  ]\n}"
            }
          },
          "metadata": {},
          "execution_count": 194
        }
      ]
    },
    {
      "cell_type": "markdown",
      "source": [
        "Exploratory Data Analysis\n"
      ],
      "metadata": {
        "id": "V3Pz5NB_dz75"
      }
    },
    {
      "cell_type": "code",
      "source": [
        "#Know the datatypes\n",
        "df.info()"
      ],
      "metadata": {
        "colab": {
          "base_uri": "https://localhost:8080/"
        },
        "id": "nOapbI6bd3kd",
        "outputId": "01a63fe1-8ef9-4bbc-bc1b-ff23d0bd0450"
      },
      "execution_count": null,
      "outputs": [
        {
          "output_type": "stream",
          "name": "stdout",
          "text": [
            "<class 'pandas.core.frame.DataFrame'>\n",
            "RangeIndex: 920 entries, 0 to 919\n",
            "Data columns (total 16 columns):\n",
            " #   Column    Non-Null Count  Dtype  \n",
            "---  ------    --------------  -----  \n",
            " 0   id        920 non-null    int64  \n",
            " 1   age       920 non-null    int64  \n",
            " 2   sex       920 non-null    object \n",
            " 3   dataset   920 non-null    object \n",
            " 4   cp        920 non-null    object \n",
            " 5   trestbps  861 non-null    float64\n",
            " 6   chol      890 non-null    float64\n",
            " 7   fbs       830 non-null    object \n",
            " 8   restecg   918 non-null    object \n",
            " 9   thalch    865 non-null    float64\n",
            " 10  exang     865 non-null    object \n",
            " 11  oldpeak   858 non-null    float64\n",
            " 12  slope     611 non-null    object \n",
            " 13  ca        309 non-null    float64\n",
            " 14  thal      434 non-null    object \n",
            " 15  num       920 non-null    int64  \n",
            "dtypes: float64(5), int64(3), object(8)\n",
            "memory usage: 115.1+ KB\n"
          ]
        }
      ]
    },
    {
      "cell_type": "code",
      "source": [
        "#display rows and columns\n",
        "df.shape"
      ],
      "metadata": {
        "colab": {
          "base_uri": "https://localhost:8080/"
        },
        "id": "JomxD0-heOzz",
        "outputId": "afd98822-1ece-476a-a751-01d8f47df012"
      },
      "execution_count": null,
      "outputs": [
        {
          "output_type": "execute_result",
          "data": {
            "text/plain": [
              "(920, 16)"
            ]
          },
          "metadata": {},
          "execution_count": 196
        }
      ]
    },
    {
      "cell_type": "markdown",
      "source": [
        "Visualization"
      ],
      "metadata": {
        "id": "6mfOOW7de6JJ"
      }
    },
    {
      "cell_type": "code",
      "source": [
        "#display age statistical analysis\n",
        "df['age'].describe()\n"
      ],
      "metadata": {
        "colab": {
          "base_uri": "https://localhost:8080/"
        },
        "id": "IcbF5Z7me8YY",
        "outputId": "dd93ee7e-e6ba-444c-978b-e4ab7097d27d"
      },
      "execution_count": null,
      "outputs": [
        {
          "output_type": "execute_result",
          "data": {
            "text/plain": [
              "count    920.000000\n",
              "mean      53.510870\n",
              "std        9.424685\n",
              "min       28.000000\n",
              "25%       47.000000\n",
              "50%       54.000000\n",
              "75%       60.000000\n",
              "max       77.000000\n",
              "Name: age, dtype: float64"
            ]
          },
          "metadata": {},
          "execution_count": 197
        }
      ]
    },
    {
      "cell_type": "markdown",
      "source": [
        "age column distribution is normally distributed we can see clearly see the bell curve"
      ],
      "metadata": {
        "id": "K2plvTorsmlF"
      }
    },
    {
      "cell_type": "code",
      "source": [
        "df_patients = df[df['num'] != 0]\n",
        "df_patients"
      ],
      "metadata": {
        "colab": {
          "base_uri": "https://localhost:8080/",
          "height": 617
        },
        "id": "FVkrVRQ5fSHg",
        "outputId": "c5ac74b0-a126-4082-a92f-dfb5f5975839"
      },
      "execution_count": null,
      "outputs": [
        {
          "output_type": "execute_result",
          "data": {
            "text/plain": [
              "      id  age     sex        dataset               cp  trestbps   chol    fbs  \\\n",
              "1      2   67    Male      Cleveland     asymptomatic     160.0  286.0  False   \n",
              "2      3   67    Male      Cleveland     asymptomatic     120.0  229.0  False   \n",
              "6      7   62  Female      Cleveland     asymptomatic     140.0  268.0  False   \n",
              "8      9   63    Male      Cleveland     asymptomatic     130.0  254.0  False   \n",
              "9     10   53    Male      Cleveland     asymptomatic     140.0  203.0   True   \n",
              "..   ...  ...     ...            ...              ...       ...    ...    ...   \n",
              "913  914   62    Male  VA Long Beach     asymptomatic     158.0  170.0  False   \n",
              "914  915   46    Male  VA Long Beach     asymptomatic     134.0  310.0  False   \n",
              "915  916   54  Female  VA Long Beach     asymptomatic     127.0  333.0   True   \n",
              "917  918   55    Male  VA Long Beach     asymptomatic     122.0  223.0   True   \n",
              "919  920   62    Male  VA Long Beach  atypical angina     120.0  254.0  False   \n",
              "\n",
              "              restecg  thalch  exang  oldpeak        slope   ca  \\\n",
              "1      lv hypertrophy   108.0   True      1.5         flat  3.0   \n",
              "2      lv hypertrophy   129.0   True      2.6         flat  2.0   \n",
              "6      lv hypertrophy   160.0  False      3.6  downsloping  2.0   \n",
              "8      lv hypertrophy   147.0  False      1.4         flat  1.0   \n",
              "9      lv hypertrophy   155.0   True      3.1  downsloping  0.0   \n",
              "..                ...     ...    ...      ...          ...  ...   \n",
              "913  st-t abnormality   138.0   True      0.0          NaN  NaN   \n",
              "914            normal   126.0  False      0.0          NaN  NaN   \n",
              "915  st-t abnormality   154.0  False      0.0          NaN  NaN   \n",
              "917  st-t abnormality   100.0  False      0.0          NaN  NaN   \n",
              "919    lv hypertrophy    93.0   True      0.0          NaN  NaN   \n",
              "\n",
              "                  thal  num  \n",
              "1               normal    2  \n",
              "2    reversable defect    1  \n",
              "6               normal    3  \n",
              "8    reversable defect    2  \n",
              "9    reversable defect    1  \n",
              "..                 ...  ...  \n",
              "913                NaN    1  \n",
              "914             normal    2  \n",
              "915                NaN    1  \n",
              "917       fixed defect    2  \n",
              "919                NaN    1  \n",
              "\n",
              "[509 rows x 16 columns]"
            ],
            "text/html": [
              "\n",
              "  <div id=\"df-2a06e5a2-f9d1-4633-a3e6-bcfb30217bcd\" class=\"colab-df-container\">\n",
              "    <div>\n",
              "<style scoped>\n",
              "    .dataframe tbody tr th:only-of-type {\n",
              "        vertical-align: middle;\n",
              "    }\n",
              "\n",
              "    .dataframe tbody tr th {\n",
              "        vertical-align: top;\n",
              "    }\n",
              "\n",
              "    .dataframe thead th {\n",
              "        text-align: right;\n",
              "    }\n",
              "</style>\n",
              "<table border=\"1\" class=\"dataframe\">\n",
              "  <thead>\n",
              "    <tr style=\"text-align: right;\">\n",
              "      <th></th>\n",
              "      <th>id</th>\n",
              "      <th>age</th>\n",
              "      <th>sex</th>\n",
              "      <th>dataset</th>\n",
              "      <th>cp</th>\n",
              "      <th>trestbps</th>\n",
              "      <th>chol</th>\n",
              "      <th>fbs</th>\n",
              "      <th>restecg</th>\n",
              "      <th>thalch</th>\n",
              "      <th>exang</th>\n",
              "      <th>oldpeak</th>\n",
              "      <th>slope</th>\n",
              "      <th>ca</th>\n",
              "      <th>thal</th>\n",
              "      <th>num</th>\n",
              "    </tr>\n",
              "  </thead>\n",
              "  <tbody>\n",
              "    <tr>\n",
              "      <th>1</th>\n",
              "      <td>2</td>\n",
              "      <td>67</td>\n",
              "      <td>Male</td>\n",
              "      <td>Cleveland</td>\n",
              "      <td>asymptomatic</td>\n",
              "      <td>160.0</td>\n",
              "      <td>286.0</td>\n",
              "      <td>False</td>\n",
              "      <td>lv hypertrophy</td>\n",
              "      <td>108.0</td>\n",
              "      <td>True</td>\n",
              "      <td>1.5</td>\n",
              "      <td>flat</td>\n",
              "      <td>3.0</td>\n",
              "      <td>normal</td>\n",
              "      <td>2</td>\n",
              "    </tr>\n",
              "    <tr>\n",
              "      <th>2</th>\n",
              "      <td>3</td>\n",
              "      <td>67</td>\n",
              "      <td>Male</td>\n",
              "      <td>Cleveland</td>\n",
              "      <td>asymptomatic</td>\n",
              "      <td>120.0</td>\n",
              "      <td>229.0</td>\n",
              "      <td>False</td>\n",
              "      <td>lv hypertrophy</td>\n",
              "      <td>129.0</td>\n",
              "      <td>True</td>\n",
              "      <td>2.6</td>\n",
              "      <td>flat</td>\n",
              "      <td>2.0</td>\n",
              "      <td>reversable defect</td>\n",
              "      <td>1</td>\n",
              "    </tr>\n",
              "    <tr>\n",
              "      <th>6</th>\n",
              "      <td>7</td>\n",
              "      <td>62</td>\n",
              "      <td>Female</td>\n",
              "      <td>Cleveland</td>\n",
              "      <td>asymptomatic</td>\n",
              "      <td>140.0</td>\n",
              "      <td>268.0</td>\n",
              "      <td>False</td>\n",
              "      <td>lv hypertrophy</td>\n",
              "      <td>160.0</td>\n",
              "      <td>False</td>\n",
              "      <td>3.6</td>\n",
              "      <td>downsloping</td>\n",
              "      <td>2.0</td>\n",
              "      <td>normal</td>\n",
              "      <td>3</td>\n",
              "    </tr>\n",
              "    <tr>\n",
              "      <th>8</th>\n",
              "      <td>9</td>\n",
              "      <td>63</td>\n",
              "      <td>Male</td>\n",
              "      <td>Cleveland</td>\n",
              "      <td>asymptomatic</td>\n",
              "      <td>130.0</td>\n",
              "      <td>254.0</td>\n",
              "      <td>False</td>\n",
              "      <td>lv hypertrophy</td>\n",
              "      <td>147.0</td>\n",
              "      <td>False</td>\n",
              "      <td>1.4</td>\n",
              "      <td>flat</td>\n",
              "      <td>1.0</td>\n",
              "      <td>reversable defect</td>\n",
              "      <td>2</td>\n",
              "    </tr>\n",
              "    <tr>\n",
              "      <th>9</th>\n",
              "      <td>10</td>\n",
              "      <td>53</td>\n",
              "      <td>Male</td>\n",
              "      <td>Cleveland</td>\n",
              "      <td>asymptomatic</td>\n",
              "      <td>140.0</td>\n",
              "      <td>203.0</td>\n",
              "      <td>True</td>\n",
              "      <td>lv hypertrophy</td>\n",
              "      <td>155.0</td>\n",
              "      <td>True</td>\n",
              "      <td>3.1</td>\n",
              "      <td>downsloping</td>\n",
              "      <td>0.0</td>\n",
              "      <td>reversable defect</td>\n",
              "      <td>1</td>\n",
              "    </tr>\n",
              "    <tr>\n",
              "      <th>...</th>\n",
              "      <td>...</td>\n",
              "      <td>...</td>\n",
              "      <td>...</td>\n",
              "      <td>...</td>\n",
              "      <td>...</td>\n",
              "      <td>...</td>\n",
              "      <td>...</td>\n",
              "      <td>...</td>\n",
              "      <td>...</td>\n",
              "      <td>...</td>\n",
              "      <td>...</td>\n",
              "      <td>...</td>\n",
              "      <td>...</td>\n",
              "      <td>...</td>\n",
              "      <td>...</td>\n",
              "      <td>...</td>\n",
              "    </tr>\n",
              "    <tr>\n",
              "      <th>913</th>\n",
              "      <td>914</td>\n",
              "      <td>62</td>\n",
              "      <td>Male</td>\n",
              "      <td>VA Long Beach</td>\n",
              "      <td>asymptomatic</td>\n",
              "      <td>158.0</td>\n",
              "      <td>170.0</td>\n",
              "      <td>False</td>\n",
              "      <td>st-t abnormality</td>\n",
              "      <td>138.0</td>\n",
              "      <td>True</td>\n",
              "      <td>0.0</td>\n",
              "      <td>NaN</td>\n",
              "      <td>NaN</td>\n",
              "      <td>NaN</td>\n",
              "      <td>1</td>\n",
              "    </tr>\n",
              "    <tr>\n",
              "      <th>914</th>\n",
              "      <td>915</td>\n",
              "      <td>46</td>\n",
              "      <td>Male</td>\n",
              "      <td>VA Long Beach</td>\n",
              "      <td>asymptomatic</td>\n",
              "      <td>134.0</td>\n",
              "      <td>310.0</td>\n",
              "      <td>False</td>\n",
              "      <td>normal</td>\n",
              "      <td>126.0</td>\n",
              "      <td>False</td>\n",
              "      <td>0.0</td>\n",
              "      <td>NaN</td>\n",
              "      <td>NaN</td>\n",
              "      <td>normal</td>\n",
              "      <td>2</td>\n",
              "    </tr>\n",
              "    <tr>\n",
              "      <th>915</th>\n",
              "      <td>916</td>\n",
              "      <td>54</td>\n",
              "      <td>Female</td>\n",
              "      <td>VA Long Beach</td>\n",
              "      <td>asymptomatic</td>\n",
              "      <td>127.0</td>\n",
              "      <td>333.0</td>\n",
              "      <td>True</td>\n",
              "      <td>st-t abnormality</td>\n",
              "      <td>154.0</td>\n",
              "      <td>False</td>\n",
              "      <td>0.0</td>\n",
              "      <td>NaN</td>\n",
              "      <td>NaN</td>\n",
              "      <td>NaN</td>\n",
              "      <td>1</td>\n",
              "    </tr>\n",
              "    <tr>\n",
              "      <th>917</th>\n",
              "      <td>918</td>\n",
              "      <td>55</td>\n",
              "      <td>Male</td>\n",
              "      <td>VA Long Beach</td>\n",
              "      <td>asymptomatic</td>\n",
              "      <td>122.0</td>\n",
              "      <td>223.0</td>\n",
              "      <td>True</td>\n",
              "      <td>st-t abnormality</td>\n",
              "      <td>100.0</td>\n",
              "      <td>False</td>\n",
              "      <td>0.0</td>\n",
              "      <td>NaN</td>\n",
              "      <td>NaN</td>\n",
              "      <td>fixed defect</td>\n",
              "      <td>2</td>\n",
              "    </tr>\n",
              "    <tr>\n",
              "      <th>919</th>\n",
              "      <td>920</td>\n",
              "      <td>62</td>\n",
              "      <td>Male</td>\n",
              "      <td>VA Long Beach</td>\n",
              "      <td>atypical angina</td>\n",
              "      <td>120.0</td>\n",
              "      <td>254.0</td>\n",
              "      <td>False</td>\n",
              "      <td>lv hypertrophy</td>\n",
              "      <td>93.0</td>\n",
              "      <td>True</td>\n",
              "      <td>0.0</td>\n",
              "      <td>NaN</td>\n",
              "      <td>NaN</td>\n",
              "      <td>NaN</td>\n",
              "      <td>1</td>\n",
              "    </tr>\n",
              "  </tbody>\n",
              "</table>\n",
              "<p>509 rows × 16 columns</p>\n",
              "</div>\n",
              "    <div class=\"colab-df-buttons\">\n",
              "\n",
              "  <div class=\"colab-df-container\">\n",
              "    <button class=\"colab-df-convert\" onclick=\"convertToInteractive('df-2a06e5a2-f9d1-4633-a3e6-bcfb30217bcd')\"\n",
              "            title=\"Convert this dataframe to an interactive table.\"\n",
              "            style=\"display:none;\">\n",
              "\n",
              "  <svg xmlns=\"http://www.w3.org/2000/svg\" height=\"24px\" viewBox=\"0 -960 960 960\">\n",
              "    <path d=\"M120-120v-720h720v720H120Zm60-500h600v-160H180v160Zm220 220h160v-160H400v160Zm0 220h160v-160H400v160ZM180-400h160v-160H180v160Zm440 0h160v-160H620v160ZM180-180h160v-160H180v160Zm440 0h160v-160H620v160Z\"/>\n",
              "  </svg>\n",
              "    </button>\n",
              "\n",
              "  <style>\n",
              "    .colab-df-container {\n",
              "      display:flex;\n",
              "      gap: 12px;\n",
              "    }\n",
              "\n",
              "    .colab-df-convert {\n",
              "      background-color: #E8F0FE;\n",
              "      border: none;\n",
              "      border-radius: 50%;\n",
              "      cursor: pointer;\n",
              "      display: none;\n",
              "      fill: #1967D2;\n",
              "      height: 32px;\n",
              "      padding: 0 0 0 0;\n",
              "      width: 32px;\n",
              "    }\n",
              "\n",
              "    .colab-df-convert:hover {\n",
              "      background-color: #E2EBFA;\n",
              "      box-shadow: 0px 1px 2px rgba(60, 64, 67, 0.3), 0px 1px 3px 1px rgba(60, 64, 67, 0.15);\n",
              "      fill: #174EA6;\n",
              "    }\n",
              "\n",
              "    .colab-df-buttons div {\n",
              "      margin-bottom: 4px;\n",
              "    }\n",
              "\n",
              "    [theme=dark] .colab-df-convert {\n",
              "      background-color: #3B4455;\n",
              "      fill: #D2E3FC;\n",
              "    }\n",
              "\n",
              "    [theme=dark] .colab-df-convert:hover {\n",
              "      background-color: #434B5C;\n",
              "      box-shadow: 0px 1px 3px 1px rgba(0, 0, 0, 0.15);\n",
              "      filter: drop-shadow(0px 1px 2px rgba(0, 0, 0, 0.3));\n",
              "      fill: #FFFFFF;\n",
              "    }\n",
              "  </style>\n",
              "\n",
              "    <script>\n",
              "      const buttonEl =\n",
              "        document.querySelector('#df-2a06e5a2-f9d1-4633-a3e6-bcfb30217bcd button.colab-df-convert');\n",
              "      buttonEl.style.display =\n",
              "        google.colab.kernel.accessAllowed ? 'block' : 'none';\n",
              "\n",
              "      async function convertToInteractive(key) {\n",
              "        const element = document.querySelector('#df-2a06e5a2-f9d1-4633-a3e6-bcfb30217bcd');\n",
              "        const dataTable =\n",
              "          await google.colab.kernel.invokeFunction('convertToInteractive',\n",
              "                                                    [key], {});\n",
              "        if (!dataTable) return;\n",
              "\n",
              "        const docLinkHtml = 'Like what you see? Visit the ' +\n",
              "          '<a target=\"_blank\" href=https://colab.research.google.com/notebooks/data_table.ipynb>data table notebook</a>'\n",
              "          + ' to learn more about interactive tables.';\n",
              "        element.innerHTML = '';\n",
              "        dataTable['output_type'] = 'display_data';\n",
              "        await google.colab.output.renderOutput(dataTable, element);\n",
              "        const docLink = document.createElement('div');\n",
              "        docLink.innerHTML = docLinkHtml;\n",
              "        element.appendChild(docLink);\n",
              "      }\n",
              "    </script>\n",
              "  </div>\n",
              "\n",
              "\n",
              "<div id=\"df-fd1b3743-a14c-4bdc-82ca-10996ff52f5d\">\n",
              "  <button class=\"colab-df-quickchart\" onclick=\"quickchart('df-fd1b3743-a14c-4bdc-82ca-10996ff52f5d')\"\n",
              "            title=\"Suggest charts\"\n",
              "            style=\"display:none;\">\n",
              "\n",
              "<svg xmlns=\"http://www.w3.org/2000/svg\" height=\"24px\"viewBox=\"0 0 24 24\"\n",
              "     width=\"24px\">\n",
              "    <g>\n",
              "        <path d=\"M19 3H5c-1.1 0-2 .9-2 2v14c0 1.1.9 2 2 2h14c1.1 0 2-.9 2-2V5c0-1.1-.9-2-2-2zM9 17H7v-7h2v7zm4 0h-2V7h2v10zm4 0h-2v-4h2v4z\"/>\n",
              "    </g>\n",
              "</svg>\n",
              "  </button>\n",
              "\n",
              "<style>\n",
              "  .colab-df-quickchart {\n",
              "      --bg-color: #E8F0FE;\n",
              "      --fill-color: #1967D2;\n",
              "      --hover-bg-color: #E2EBFA;\n",
              "      --hover-fill-color: #174EA6;\n",
              "      --disabled-fill-color: #AAA;\n",
              "      --disabled-bg-color: #DDD;\n",
              "  }\n",
              "\n",
              "  [theme=dark] .colab-df-quickchart {\n",
              "      --bg-color: #3B4455;\n",
              "      --fill-color: #D2E3FC;\n",
              "      --hover-bg-color: #434B5C;\n",
              "      --hover-fill-color: #FFFFFF;\n",
              "      --disabled-bg-color: #3B4455;\n",
              "      --disabled-fill-color: #666;\n",
              "  }\n",
              "\n",
              "  .colab-df-quickchart {\n",
              "    background-color: var(--bg-color);\n",
              "    border: none;\n",
              "    border-radius: 50%;\n",
              "    cursor: pointer;\n",
              "    display: none;\n",
              "    fill: var(--fill-color);\n",
              "    height: 32px;\n",
              "    padding: 0;\n",
              "    width: 32px;\n",
              "  }\n",
              "\n",
              "  .colab-df-quickchart:hover {\n",
              "    background-color: var(--hover-bg-color);\n",
              "    box-shadow: 0 1px 2px rgba(60, 64, 67, 0.3), 0 1px 3px 1px rgba(60, 64, 67, 0.15);\n",
              "    fill: var(--button-hover-fill-color);\n",
              "  }\n",
              "\n",
              "  .colab-df-quickchart-complete:disabled,\n",
              "  .colab-df-quickchart-complete:disabled:hover {\n",
              "    background-color: var(--disabled-bg-color);\n",
              "    fill: var(--disabled-fill-color);\n",
              "    box-shadow: none;\n",
              "  }\n",
              "\n",
              "  .colab-df-spinner {\n",
              "    border: 2px solid var(--fill-color);\n",
              "    border-color: transparent;\n",
              "    border-bottom-color: var(--fill-color);\n",
              "    animation:\n",
              "      spin 1s steps(1) infinite;\n",
              "  }\n",
              "\n",
              "  @keyframes spin {\n",
              "    0% {\n",
              "      border-color: transparent;\n",
              "      border-bottom-color: var(--fill-color);\n",
              "      border-left-color: var(--fill-color);\n",
              "    }\n",
              "    20% {\n",
              "      border-color: transparent;\n",
              "      border-left-color: var(--fill-color);\n",
              "      border-top-color: var(--fill-color);\n",
              "    }\n",
              "    30% {\n",
              "      border-color: transparent;\n",
              "      border-left-color: var(--fill-color);\n",
              "      border-top-color: var(--fill-color);\n",
              "      border-right-color: var(--fill-color);\n",
              "    }\n",
              "    40% {\n",
              "      border-color: transparent;\n",
              "      border-right-color: var(--fill-color);\n",
              "      border-top-color: var(--fill-color);\n",
              "    }\n",
              "    60% {\n",
              "      border-color: transparent;\n",
              "      border-right-color: var(--fill-color);\n",
              "    }\n",
              "    80% {\n",
              "      border-color: transparent;\n",
              "      border-right-color: var(--fill-color);\n",
              "      border-bottom-color: var(--fill-color);\n",
              "    }\n",
              "    90% {\n",
              "      border-color: transparent;\n",
              "      border-bottom-color: var(--fill-color);\n",
              "    }\n",
              "  }\n",
              "</style>\n",
              "\n",
              "  <script>\n",
              "    async function quickchart(key) {\n",
              "      const quickchartButtonEl =\n",
              "        document.querySelector('#' + key + ' button');\n",
              "      quickchartButtonEl.disabled = true;  // To prevent multiple clicks.\n",
              "      quickchartButtonEl.classList.add('colab-df-spinner');\n",
              "      try {\n",
              "        const charts = await google.colab.kernel.invokeFunction(\n",
              "            'suggestCharts', [key], {});\n",
              "      } catch (error) {\n",
              "        console.error('Error during call to suggestCharts:', error);\n",
              "      }\n",
              "      quickchartButtonEl.classList.remove('colab-df-spinner');\n",
              "      quickchartButtonEl.classList.add('colab-df-quickchart-complete');\n",
              "    }\n",
              "    (() => {\n",
              "      let quickchartButtonEl =\n",
              "        document.querySelector('#df-fd1b3743-a14c-4bdc-82ca-10996ff52f5d button');\n",
              "      quickchartButtonEl.style.display =\n",
              "        google.colab.kernel.accessAllowed ? 'block' : 'none';\n",
              "    })();\n",
              "  </script>\n",
              "</div>\n",
              "\n",
              "  <div id=\"id_9d8b9a7c-b0c2-4da7-aade-553626a2f16d\">\n",
              "    <style>\n",
              "      .colab-df-generate {\n",
              "        background-color: #E8F0FE;\n",
              "        border: none;\n",
              "        border-radius: 50%;\n",
              "        cursor: pointer;\n",
              "        display: none;\n",
              "        fill: #1967D2;\n",
              "        height: 32px;\n",
              "        padding: 0 0 0 0;\n",
              "        width: 32px;\n",
              "      }\n",
              "\n",
              "      .colab-df-generate:hover {\n",
              "        background-color: #E2EBFA;\n",
              "        box-shadow: 0px 1px 2px rgba(60, 64, 67, 0.3), 0px 1px 3px 1px rgba(60, 64, 67, 0.15);\n",
              "        fill: #174EA6;\n",
              "      }\n",
              "\n",
              "      [theme=dark] .colab-df-generate {\n",
              "        background-color: #3B4455;\n",
              "        fill: #D2E3FC;\n",
              "      }\n",
              "\n",
              "      [theme=dark] .colab-df-generate:hover {\n",
              "        background-color: #434B5C;\n",
              "        box-shadow: 0px 1px 3px 1px rgba(0, 0, 0, 0.15);\n",
              "        filter: drop-shadow(0px 1px 2px rgba(0, 0, 0, 0.3));\n",
              "        fill: #FFFFFF;\n",
              "      }\n",
              "    </style>\n",
              "    <button class=\"colab-df-generate\" onclick=\"generateWithVariable('df_patients')\"\n",
              "            title=\"Generate code using this dataframe.\"\n",
              "            style=\"display:none;\">\n",
              "\n",
              "  <svg xmlns=\"http://www.w3.org/2000/svg\" height=\"24px\"viewBox=\"0 0 24 24\"\n",
              "       width=\"24px\">\n",
              "    <path d=\"M7,19H8.4L18.45,9,17,7.55,7,17.6ZM5,21V16.75L18.45,3.32a2,2,0,0,1,2.83,0l1.4,1.43a1.91,1.91,0,0,1,.58,1.4,1.91,1.91,0,0,1-.58,1.4L9.25,21ZM18.45,9,17,7.55Zm-12,3A5.31,5.31,0,0,0,4.9,8.1,5.31,5.31,0,0,0,1,6.5,5.31,5.31,0,0,0,4.9,4.9,5.31,5.31,0,0,0,6.5,1,5.31,5.31,0,0,0,8.1,4.9,5.31,5.31,0,0,0,12,6.5,5.46,5.46,0,0,0,6.5,12Z\"/>\n",
              "  </svg>\n",
              "    </button>\n",
              "    <script>\n",
              "      (() => {\n",
              "      const buttonEl =\n",
              "        document.querySelector('#id_9d8b9a7c-b0c2-4da7-aade-553626a2f16d button.colab-df-generate');\n",
              "      buttonEl.style.display =\n",
              "        google.colab.kernel.accessAllowed ? 'block' : 'none';\n",
              "\n",
              "      buttonEl.onclick = () => {\n",
              "        google.colab.notebook.generateWithVariable('df_patients');\n",
              "      }\n",
              "      })();\n",
              "    </script>\n",
              "  </div>\n",
              "\n",
              "    </div>\n",
              "  </div>\n"
            ],
            "application/vnd.google.colaboratory.intrinsic+json": {
              "type": "dataframe",
              "variable_name": "df_patients",
              "summary": "{\n  \"name\": \"df_patients\",\n  \"rows\": 509,\n  \"fields\": [\n    {\n      \"column\": \"id\",\n      \"properties\": {\n        \"dtype\": \"number\",\n        \"std\": 264,\n        \"min\": 2,\n        \"max\": 920,\n        \"num_unique_values\": 509,\n        \"samples\": [\n          178,\n          676,\n          889\n        ],\n        \"semantic_type\": \"\",\n        \"description\": \"\"\n      }\n    },\n    {\n      \"column\": \"age\",\n      \"properties\": {\n        \"dtype\": \"number\",\n        \"std\": 8,\n        \"min\": 31,\n        \"max\": 77,\n        \"num_unique_values\": 47,\n        \"samples\": [\n          35,\n          37,\n          70\n        ],\n        \"semantic_type\": \"\",\n        \"description\": \"\"\n      }\n    },\n    {\n      \"column\": \"sex\",\n      \"properties\": {\n        \"dtype\": \"category\",\n        \"num_unique_values\": 2,\n        \"samples\": [\n          \"Female\",\n          \"Male\"\n        ],\n        \"semantic_type\": \"\",\n        \"description\": \"\"\n      }\n    },\n    {\n      \"column\": \"dataset\",\n      \"properties\": {\n        \"dtype\": \"category\",\n        \"num_unique_values\": 4,\n        \"samples\": [\n          \"Hungary\",\n          \"VA Long Beach\"\n        ],\n        \"semantic_type\": \"\",\n        \"description\": \"\"\n      }\n    },\n    {\n      \"column\": \"cp\",\n      \"properties\": {\n        \"dtype\": \"category\",\n        \"num_unique_values\": 4,\n        \"samples\": [\n          \"non-anginal\",\n          \"typical angina\"\n        ],\n        \"semantic_type\": \"\",\n        \"description\": \"\"\n      }\n    },\n    {\n      \"column\": \"trestbps\",\n      \"properties\": {\n        \"dtype\": \"number\",\n        \"std\": 20.55227809337405,\n        \"min\": 0.0,\n        \"max\": 200.0,\n        \"num_unique_values\": 55,\n        \"samples\": [\n          123.0,\n          132.0\n        ],\n        \"semantic_type\": \"\",\n        \"description\": \"\"\n      }\n    },\n    {\n      \"column\": \"chol\",\n      \"properties\": {\n        \"dtype\": \"number\",\n        \"std\": 127.51761072362335,\n        \"min\": 0.0,\n        \"max\": 603.0,\n        \"num_unique_values\": 168,\n        \"samples\": [\n          491.0,\n          267.0\n        ],\n        \"semantic_type\": \"\",\n        \"description\": \"\"\n      }\n    },\n    {\n      \"column\": \"fbs\",\n      \"properties\": {\n        \"dtype\": \"category\",\n        \"num_unique_values\": 2,\n        \"samples\": [\n          true,\n          false\n        ],\n        \"semantic_type\": \"\",\n        \"description\": \"\"\n      }\n    },\n    {\n      \"column\": \"restecg\",\n      \"properties\": {\n        \"dtype\": \"category\",\n        \"num_unique_values\": 3,\n        \"samples\": [\n          \"lv hypertrophy\",\n          \"normal\"\n        ],\n        \"semantic_type\": \"\",\n        \"description\": \"\"\n      }\n    },\n    {\n      \"column\": \"thalch\",\n      \"properties\": {\n        \"dtype\": \"number\",\n        \"std\": 24.024193284330355,\n        \"min\": 60.0,\n        \"max\": 195.0,\n        \"num_unique_values\": 102,\n        \"samples\": [\n          157.0,\n          164.0\n        ],\n        \"semantic_type\": \"\",\n        \"description\": \"\"\n      }\n    },\n    {\n      \"column\": \"exang\",\n      \"properties\": {\n        \"dtype\": \"category\",\n        \"num_unique_values\": 2,\n        \"samples\": [\n          false,\n          true\n        ],\n        \"semantic_type\": \"\",\n        \"description\": \"\"\n      }\n    },\n    {\n      \"column\": \"oldpeak\",\n      \"properties\": {\n        \"dtype\": \"number\",\n        \"std\": 1.1974237331447581,\n        \"min\": -2.6,\n        \"max\": 6.2,\n        \"num_unique_values\": 50,\n        \"samples\": [\n          1.2,\n          -0.7\n        ],\n        \"semantic_type\": \"\",\n        \"description\": \"\"\n      }\n    },\n    {\n      \"column\": \"slope\",\n      \"properties\": {\n        \"dtype\": \"category\",\n        \"num_unique_values\": 3,\n        \"samples\": [\n          \"flat\",\n          \"downsloping\"\n        ],\n        \"semantic_type\": \"\",\n        \"description\": \"\"\n      }\n    },\n    {\n      \"column\": \"ca\",\n      \"properties\": {\n        \"dtype\": \"number\",\n        \"std\": 1.0121397936683263,\n        \"min\": 0.0,\n        \"max\": 3.0,\n        \"num_unique_values\": 4,\n        \"samples\": [\n          2.0,\n          0.0\n        ],\n        \"semantic_type\": \"\",\n        \"description\": \"\"\n      }\n    },\n    {\n      \"column\": \"thal\",\n      \"properties\": {\n        \"dtype\": \"category\",\n        \"num_unique_values\": 3,\n        \"samples\": [\n          \"normal\",\n          \"reversable defect\"\n        ],\n        \"semantic_type\": \"\",\n        \"description\": \"\"\n      }\n    },\n    {\n      \"column\": \"num\",\n      \"properties\": {\n        \"dtype\": \"number\",\n        \"std\": 0,\n        \"min\": 1,\n        \"max\": 4,\n        \"num_unique_values\": 4,\n        \"samples\": [\n          1,\n          4\n        ],\n        \"semantic_type\": \"\",\n        \"description\": \"\"\n      }\n    }\n  ]\n}"
            }
          },
          "metadata": {},
          "execution_count": 198
        }
      ]
    },
    {
      "cell_type": "markdown",
      "source": [
        "0. Distribution of Patients Age with and without Heart Disease"
      ],
      "metadata": {
        "id": "-dr2gvYkiJQ2"
      }
    },
    {
      "cell_type": "code",
      "source": [
        "#To Plot histogram to show Distribution of Patients' Age with and without Heart Disease\n",
        "sns.histplot(data=df, x='age', hue='num', multiple='stack', binwidth=5)\n",
        "plt.title('Distribution of Patients Age with and without Heart Disease')\n",
        "plt.xlabel('Age')\n",
        "plt.ylabel('Count')\n",
        "plt.show()"
      ],
      "metadata": {
        "colab": {
          "base_uri": "https://localhost:8080/",
          "height": 472
        },
        "id": "ipvHxCQKsk2P",
        "outputId": "539d3750-8dc1-4520-db8e-eaebe6caa9d9"
      },
      "execution_count": null,
      "outputs": [
        {
          "output_type": "display_data",
          "data": {
            "text/plain": [
              "<Figure size 640x480 with 1 Axes>"
            ],
            "image/png": "[encoded data removed]"
          },
          "metadata": {}
        }
      ]
    },
    {
      "cell_type": "markdown",
      "source": [
        "The graph shows the distribution of age for patients with and without heart disease. There is a higher frequency of heart disease cases among older patients, particularly those aged 55-65, while younger patients tend to have lower rates of heart disease."
      ],
      "metadata": {
        "id": "yM2nCCdGtPZK"
      }
    },
    {
      "cell_type": "markdown",
      "source": [
        "1.Heart Disease Prevalence by Sex\n",
        "\n"
      ],
      "metadata": {
        "id": "TzFVOWXEt4_5"
      }
    },
    {
      "cell_type": "code",
      "source": [
        "# count plot to show the relationship between gender and heart disease\n",
        "sns.countplot(data=df, x='sex', hue='num')\n",
        "plt.title('Heart Disease Prevalence by Sex')\n",
        "plt.xlabel('Sex')\n",
        "plt.ylabel('Count')\n",
        "plt.legend(title='Heart Disease', labels=['0', '1', '2', '3', '4'])\n",
        "plt.show()\n"
      ],
      "metadata": {
        "colab": {
          "base_uri": "https://localhost:8080/",
          "height": 472
        },
        "id": "Y39zxTs2uAAj",
        "outputId": "81fc8c58-9a4b-42af-89e5-077b20fefdf2"
      },
      "execution_count": null,
      "outputs": [
        {
          "output_type": "display_data",
          "data": {
            "text/plain": [
              "<Figure size 640x480 with 1 Axes>"
            ],
            "image/png": "[encoded data removed]"
          },
          "metadata": {}
        }
      ]
    },
    {
      "cell_type": "markdown",
      "source": [
        "We can notice that men are more susceptible to heart disease at all levels"
      ],
      "metadata": {
        "id": "RTJJCw1OuIGl"
      }
    },
    {
      "cell_type": "markdown",
      "source": [
        "2.Relationship Between Cholesterol Levels and Heart Disease"
      ],
      "metadata": {
        "id": "bJyoR8JzuMhG"
      }
    },
    {
      "cell_type": "code",
      "source": [
        "\n",
        "\n",
        "\n",
        "# Strip plot to show the relationship between cholesterol levels and heart disease\n",
        "sns.stripplot(data=df, x='num', y='chol', jitter=True)\n",
        "plt.title('Cholesterol Levels vs. Heart Disease')\n",
        "plt.xlabel('Heart Disease')\n",
        "plt.ylabel('Cholesterol Levels (mg/dl)')\n",
        "plt.xticks([0, 1, 2, 3, 4], ['0', '1', '2', '3', '4'])\n",
        "plt.show()\n",
        "\n",
        "\n"
      ],
      "metadata": {
        "colab": {
          "base_uri": "https://localhost:8080/",
          "height": 472
        },
        "id": "h8vhMjvFuPa4",
        "outputId": "6140468c-f0fa-4cb2-f827-97bb1e94a6c6"
      },
      "execution_count": null,
      "outputs": [
        {
          "output_type": "display_data",
          "data": {
            "text/plain": [
              "<Figure size 640x480 with 1 Axes>"
            ],
            "image/png": "[encoded data removed]"
          },
          "metadata": {}
        }
      ]
    },
    {
      "cell_type": "markdown",
      "source": [
        "The strip plot illustrates cholesterol levels across five heart disease categories, showing median values, range variability, and outliers. Categories 1 to 4 have similar medians, but the spread and outliers differ, with category 0 showing the most variability"
      ],
      "metadata": {
        "id": "eTkTFrW2A3MA"
      }
    },
    {
      "cell_type": "markdown",
      "source": [
        "4.Maximum Heart Rate and Heart Disease"
      ],
      "metadata": {
        "id": "04mW3vLGA9Yz"
      }
    },
    {
      "cell_type": "code",
      "source": [
        "# Scatterplot plot to show the relationship between age and heart disease\n",
        "sns.scatterplot(data=df, x='age', y='thalch', hue='num')\n",
        "plt.title('Maximum Heart Rate Achieved by Age and Heart Disease Status')\n",
        "plt.xlabel('Age')\n",
        "plt.ylabel('Max Heart Rate (thalch)')\n",
        "plt.legend(title='Heart Disease', labels=['0', '1', '2', '3', '4'])\n",
        "plt.show()"
      ],
      "metadata": {
        "colab": {
          "base_uri": "https://localhost:8080/",
          "height": 472
        },
        "id": "VvB1NAnqBBNE",
        "outputId": "95006b82-f9ad-49af-9a00-8782b4259e5f"
      },
      "execution_count": null,
      "outputs": [
        {
          "output_type": "display_data",
          "data": {
            "text/plain": [
              "<Figure size 640x480 with 1 Axes>"
            ],
            "image/png": "[encoded data removed]"
          },
          "metadata": {}
        }
      ]
    },
    {
      "cell_type": "markdown",
      "source": [
        "For individuals between 50 and 60 years old, there appears to be a significant overlap in maximum heart rates achieved across the different heart disease status categories."
      ],
      "metadata": {
        "id": "BF543IlcBHXt"
      }
    },
    {
      "cell_type": "markdown",
      "source": [
        "5.The Impact of Exercise-Induced Angina on Heart Disease"
      ],
      "metadata": {
        "id": "KL2kzcdX1nkC"
      }
    },
    {
      "cell_type": "code",
      "source": [
        "# count plot to show the relationship between cholesterol ecang and heart disease\n",
        "sns.countplot(data=df, x='exang', hue='num')\n",
        "plt.title('Impact of Exercise-Induced Angina on Heart Disease')\n",
        "plt.xlabel('Exercise-Induced Angina')\n",
        "plt.ylabel('Count')\n",
        "plt.legend(title='Heart Disease', labels=['0', '1', '2', '3', '4'])\n",
        "plt.show()\n"
      ],
      "metadata": {
        "colab": {
          "base_uri": "https://localhost:8080/",
          "height": 472
        },
        "id": "IbNhyekiBjKs",
        "outputId": "2143b689-6ce1-48f6-b34a-e7bcf213a891"
      },
      "execution_count": null,
      "outputs": [
        {
          "output_type": "display_data",
          "data": {
            "text/plain": [
              "<Figure size 640x480 with 1 Axes>"
            ],
            "image/png": "[encoded data removed]"
          },
          "metadata": {}
        }
      ]
    },
    {
      "cell_type": "markdown",
      "source": [
        "Most cases in category 0 do not report angina, while categories 1 through 4 show a more varied distribution, with both angina and non-angina cases present. The data suggests that exercise-induced angina is more commonly reported in individuals with heart disease categories 1 to 4 compared to category 0\n",
        "\n"
      ],
      "metadata": {
        "id": "AKG6xUBzBteZ"
      }
    },
    {
      "cell_type": "markdown",
      "source": [
        "6. Average Resting Blood Pressure by Heart Disease Status"
      ],
      "metadata": {
        "id": "cq5a0l9bCTBs"
      }
    },
    {
      "cell_type": "code",
      "source": [
        "# bar plot to show the relationship between Average resting blood pressure and heart disease\n",
        "sns.barplot(data=df, x='num', y='trestbps')\n",
        "plt.title('Average Resting Blood Pressure by Heart Disease Status')\n",
        "plt.xlabel('Heart Disease')\n",
        "plt.ylabel('Average Resting Blood Pressure (mm Hg)')\n",
        "plt.xticks([0, 1, 2, 3, 4], ['0', '1', '2', '3', '4'])\n",
        "plt.show()"
      ],
      "metadata": {
        "colab": {
          "base_uri": "https://localhost:8080/",
          "height": 472
        },
        "id": "PLXVwB91CYOp",
        "outputId": "b06146f3-a57b-4c18-d7dd-1d6066dfdc26"
      },
      "execution_count": null,
      "outputs": [
        {
          "output_type": "display_data",
          "data": {
            "text/plain": [
              "<Figure size 640x480 with 1 Axes>"
            ],
            "image/png": "[encoded data removed]"
          },
          "metadata": {}
        }
      ]
    },
    {
      "cell_type": "markdown",
      "source": [
        "All categories show similar average blood pressures ranging slightly above 120 mm Hg. The error bars indicate some variability in the measurements, with a slight trend toward increasing variability from status 0 to 4"
      ],
      "metadata": {
        "id": "3Wobl9qGFBhj"
      }
    },
    {
      "cell_type": "markdown",
      "source": [
        "7.Distribution of Chest Pain Type among Patients"
      ],
      "metadata": {
        "id": "7O1KaDwz102O"
      }
    },
    {
      "cell_type": "code",
      "source": [
        "# count plot to show the relationship between Distribution of chest type and heart disease\n",
        "sns.countplot(data=df, x='cp', hue='num')\n",
        "plt.title('Distribution of Chest Pain Type by Heart Disease Status')\n",
        "plt.xlabel('Chest Pain Type')\n",
        "plt.ylabel('Count')\n",
        "plt.legend(title='Heart Disease', labels=['0', '1', '2', '3', '4'])\n",
        "plt.show()"
      ],
      "metadata": {
        "colab": {
          "base_uri": "https://localhost:8080/",
          "height": 472
        },
        "id": "JkxRiJXiFdax",
        "outputId": "25e9138b-8219-4c9c-fa4a-6be5ade59e20"
      },
      "execution_count": null,
      "outputs": [
        {
          "output_type": "display_data",
          "data": {
            "text/plain": [
              "<Figure size 640x480 with 1 Axes>"
            ],
            "image/png": "[encoded data removed]"
          },
          "metadata": {}
        }
      ]
    },
    {
      "cell_type": "markdown",
      "source": [
        "'Asymptomatic' is the most common type of chest pain across all heart disease statuses. 'Non-anginal' pain is the next notable frequency with heart disease status 4(,,,)"
      ],
      "metadata": {
        "id": "5EOq48hzFkBd"
      }
    },
    {
      "cell_type": "markdown",
      "source": [
        "8.Fasting Blood Sugar and Heart Disease"
      ],
      "metadata": {
        "id": "ja9gPSmDFtRs"
      }
    },
    {
      "cell_type": "code",
      "source": [
        "# count plot to show the relationship between fasting blood sugar and heart disease\n",
        "sns.countplot(data=df, x='fbs', hue='num')\n",
        "plt.title('Fasting Blood Sugar > 120 mg/dl and Heart Disease')\n",
        "plt.xlabel('Fasting Blood Sugar > 120 mg/dl')\n",
        "plt.ylabel('Count')\n",
        "plt.legend(title='Heart Disease', labels=['0', '1', '2', '3', '4'])\n",
        "plt.xticks([0, 1], ['No', 'Yes'])\n",
        "plt.show()\n"
      ],
      "metadata": {
        "colab": {
          "base_uri": "https://localhost:8080/",
          "height": 472
        },
        "id": "IPipCCCEFxo2",
        "outputId": "733d3da3-99a5-40bf-ac24-779bb3b1e1f2"
      },
      "execution_count": null,
      "outputs": [
        {
          "output_type": "display_data",
          "data": {
            "text/plain": [
              "<Figure size 640x480 with 1 Axes>"
            ],
            "image/png": "[encoded data removed]"
          },
          "metadata": {}
        }
      ]
    },
    {
      "cell_type": "markdown",
      "source": [
        "The majority of individuals across all heart disease statuses have fasting blood sugar levels at or below 120 mg/dl. For those with higher blood sugar levels, the counts are notably lower, suggesting that elevated fasting blood sugar is less common among these individuals regardless of their heart disease status."
      ],
      "metadata": {
        "id": "g8Gxte8oGUS7"
      }
    },
    {
      "cell_type": "markdown",
      "source": [
        "9.Heart Disease Prevalence by Resting Electrocardiographic Results"
      ],
      "metadata": {
        "id": "z-dMPd46GYy5"
      }
    },
    {
      "cell_type": "code",
      "source": [
        "# count plot to show the relationship between cholesterol levels and heart disease count\n",
        "sns.countplot(data=df, x='restecg', hue='num')\n",
        "plt.title('Heart Disease Prevalence by Resting Electrocardiographic Results')\n",
        "plt.xlabel('Resting Electrocardiographic Results')\n",
        "plt.ylabel('Count')\n",
        "plt.legend(title='Heart Disease', labels=['0', '1', '2', '3', '4'])\n",
        "plt.show()"
      ],
      "metadata": {
        "colab": {
          "base_uri": "https://localhost:8080/",
          "height": 472
        },
        "id": "jEUPtlCoGoo6",
        "outputId": "25c3d94d-0b0d-419a-9085-969881e056f6"
      },
      "execution_count": null,
      "outputs": [
        {
          "output_type": "display_data",
          "data": {
            "text/plain": [
              "<Figure size 640x480 with 1 Axes>"
            ],
            "image/png": "[encoded data removed]"
          },
          "metadata": {}
        }
      ]
    },
    {
      "cell_type": "markdown",
      "source": [
        "Most individuals with a normal ECG result fall into the '0' heart disease category, indicating no presence of heart disease. In contrast, those with ST-T abnormalities show a higher count of heart disease statuses 1 through 4. Left Ventricular hypertrophy is less common but shows some presence across all heart disease categories"
      ],
      "metadata": {
        "id": "6Pcb0B51Gw9F"
      }
    },
    {
      "cell_type": "markdown",
      "source": [
        "Checking Duplicate Values"
      ],
      "metadata": {
        "id": "VfBEQfitK99H"
      }
    },
    {
      "cell_type": "code",
      "source": [
        "duplicates=df.duplicated().sum()\n",
        "if duplicates > 0:\n",
        "    print(f\"There are {duplicates} duplicated rows in the dataset.\")\n",
        "else:\n",
        "    print(\"No duplicated rows found in the dataset.\")"
      ],
      "metadata": {
        "colab": {
          "base_uri": "https://localhost:8080/"
        },
        "id": "E5cH5MXrKOgu",
        "outputId": "6d054935-5601-4a6f-9fc4-49f9107747c0"
      },
      "execution_count": null,
      "outputs": [
        {
          "output_type": "stream",
          "name": "stdout",
          "text": [
            "No duplicated rows found in the dataset.\n"
          ]
        }
      ]
    },
    {
      "cell_type": "markdown",
      "source": [
        "Handling missing values"
      ],
      "metadata": {
        "id": "PR2U1DGqqYN-"
      }
    },
    {
      "cell_type": "code",
      "source": [
        "# let's check again for missing values\n",
        "(df.isnull().sum()/ len(df)* 100).sort_values(ascending=False)\n",
        "\n"
      ],
      "metadata": {
        "colab": {
          "base_uri": "https://localhost:8080/"
        },
        "id": "liXELutdNQ5c",
        "outputId": "47b8c3c8-5462-4977-b48f-3cb9648a9e81"
      },
      "execution_count": null,
      "outputs": [
        {
          "output_type": "execute_result",
          "data": {
            "text/plain": [
              "ca          66.413043\n",
              "thal        52.826087\n",
              "slope       33.586957\n",
              "fbs          9.782609\n",
              "oldpeak      6.739130\n",
              "trestbps     6.413043\n",
              "thalch       5.978261\n",
              "exang        5.978261\n",
              "chol         3.260870\n",
              "restecg      0.217391\n",
              "id           0.000000\n",
              "age          0.000000\n",
              "sex          0.000000\n",
              "dataset      0.000000\n",
              "cp           0.000000\n",
              "num          0.000000\n",
              "dtype: float64"
            ]
          },
          "metadata": {},
          "execution_count": 209
        }
      ]
    },
    {
      "cell_type": "code",
      "source": [
        "# Identify columns with missing values\n",
        "df_miss = df.isnull().sum()\n",
        "df_miss_cols = df_miss[df_miss > 0].index  # Filter columns with missing values\n",
        "\n",
        "# Find categorical columns with missing values\n",
        "cat_cols_with_missing = df[df_miss_cols].select_dtypes(include='object').columns.tolist()\n",
        "\n",
        "# Find numerical columns with missing values\n",
        "num_cols_with_missing = df[df_miss_cols].select_dtypes(exclude='object').columns.tolist()\n",
        "\n",
        "\n",
        "#Treating ca as categorical feature\n",
        "cat_cols_with_missing =['fbs', 'restecg', 'exang', 'slope', 'thal', 'ca']\n",
        "num_cols_with_missing=['trestbps', 'chol', 'thalch', 'oldpeak']\n",
        "\n",
        "print(f'\\nCategorical Columns with Missing Values: {cat_cols_with_missing}')\n",
        "print(f'Numerical Columns with Missing Values  : {num_cols_with_missing}')"
      ],
      "metadata": {
        "colab": {
          "base_uri": "https://localhost:8080/"
        },
        "id": "qz5SBRpVKaaM",
        "outputId": "df13c114-dd07-4966-d76f-a1e22cde667d"
      },
      "execution_count": null,
      "outputs": [
        {
          "output_type": "stream",
          "name": "stdout",
          "text": [
            "\n",
            "Categorical Columns with Missing Values: ['fbs', 'restecg', 'exang', 'slope', 'thal', 'ca']\n",
            "Numerical Columns with Missing Values  : ['trestbps', 'chol', 'thalch', 'oldpeak']\n"
          ]
        }
      ]
    },
    {
      "cell_type": "markdown",
      "source": [
        "Impute missing values using **Iterative Imputer** for numerical columns."
      ],
      "metadata": {
        "id": "jyaaUei4BGzN"
      }
    },
    {
      "cell_type": "code",
      "source": [
        "# create an object of iterative imputer\n",
        "num_imputer = IterativeImputer(max_iter=10, random_state=42)\n",
        "\n",
        "\n",
        "for col in num_cols_with_missing :\n",
        "    df[col] = num_imputer.fit_transform(df[[col]])"
      ],
      "metadata": {
        "id": "bAEd-AX-BOcw"
      },
      "execution_count": null,
      "outputs": []
    },
    {
      "cell_type": "code",
      "source": [
        "# let's check again for missing values\n",
        "(df.isnull().sum()/ len(df)* 100).sort_values(ascending=False)"
      ],
      "metadata": {
        "colab": {
          "base_uri": "https://localhost:8080/"
        },
        "id": "vfpvO12BBT2X",
        "outputId": "9a210d26-69f2-4a2d-9480-a7d24d7f051c"
      },
      "execution_count": null,
      "outputs": [
        {
          "output_type": "execute_result",
          "data": {
            "text/plain": [
              "ca          66.413043\n",
              "thal        52.826087\n",
              "slope       33.586957\n",
              "fbs          9.782609\n",
              "exang        5.978261\n",
              "restecg      0.217391\n",
              "id           0.000000\n",
              "age          0.000000\n",
              "sex          0.000000\n",
              "dataset      0.000000\n",
              "cp           0.000000\n",
              "trestbps     0.000000\n",
              "chol         0.000000\n",
              "thalch       0.000000\n",
              "oldpeak      0.000000\n",
              "num          0.000000\n",
              "dtype: float64"
            ]
          },
          "metadata": {},
          "execution_count": 212
        }
      ]
    },
    {
      "cell_type": "markdown",
      "source": [
        "**Impute the missing values in categorical columns**"
      ],
      "metadata": {
        "id": "t207ZESZBccq"
      }
    },
    {
      "cell_type": "code",
      "source": [
        "# remove warning\n",
        "import warnings\n",
        "warnings.filterwarnings('ignore')\n",
        "\n",
        "# Impute missing values using the given functions\n",
        "# df = impute_missing_data(df, categorical_cols, numerical_cols, bool_cols)\n",
        "for col in cat_cols_with_missing :\n",
        "    df[col].fillna(df[col].mode()[0], inplace=True)"
      ],
      "metadata": {
        "id": "den1VQlBPhUk"
      },
      "execution_count": null,
      "outputs": []
    },
    {
      "cell_type": "code",
      "source": [
        "df.isnull().sum().sort_values(ascending=False)"
      ],
      "metadata": {
        "colab": {
          "base_uri": "https://localhost:8080/"
        },
        "id": "tKTWf7zZPntK",
        "outputId": "12bdefaf-5d02-436b-a74e-7c8692d86527"
      },
      "execution_count": null,
      "outputs": [
        {
          "output_type": "execute_result",
          "data": {
            "text/plain": [
              "id          0\n",
              "age         0\n",
              "sex         0\n",
              "dataset     0\n",
              "cp          0\n",
              "trestbps    0\n",
              "chol        0\n",
              "fbs         0\n",
              "restecg     0\n",
              "thalch      0\n",
              "exang       0\n",
              "oldpeak     0\n",
              "slope       0\n",
              "ca          0\n",
              "thal        0\n",
              "num         0\n",
              "dtype: int64"
            ]
          },
          "metadata": {},
          "execution_count": 214
        }
      ]
    },
    {
      "cell_type": "markdown",
      "source": [
        "Now Missing values are imputed and there is no missing values in the columns...."
      ],
      "metadata": {
        "id": "uQ2Ic4HSPq9n"
      }
    },
    {
      "cell_type": "markdown",
      "source": [
        "**Dealing With** **Outliers**"
      ],
      "metadata": {
        "id": "_n5as1l1WrPB"
      }
    },
    {
      "cell_type": "markdown",
      "source": [
        "Deal with Outliers trestbps\n",
        "\n",
        "trestbps resting blood pressure (resting blood pressure (in mm Hg on admission to the hospital))\n",
        "\n",
        "Resting Blood Pressure cannot be zero Deal with Outliers oldpeak\n",
        "\n",
        "oldpeak: ST depression induced by exercise relative to rest Deal with Outliers thalch\n",
        "\n",
        "\n",
        "thalch: maximum heart rate achieved Deal with Outliers chol\n",
        "chol (serum cholesterol in mg/dl)\n",
        "\n"
      ],
      "metadata": {
        "id": "invJsA5hSwU_"
      }
    },
    {
      "cell_type": "markdown",
      "source": [
        "6.Check Outliers with IQR Method"
      ],
      "metadata": {
        "id": "jDgE1dKLP_9y"
      }
    },
    {
      "cell_type": "code",
      "source": [
        "# check number outliers in numeric_cols using IQR\n",
        "Q1 = df[num_cols_with_missing].quantile(0.25)\n",
        "Q2 = df[num_cols_with_missing].quantile(0.75)\n",
        "IQR = Q2 - Q1\n",
        "outliers_count_specified = ((df[num_cols_with_missing] < (Q1 - 1.5 * IQR)) | (df[num_cols_with_missing] > (Q2 + 1.5 * IQR))).sum()\n",
        "\n",
        "outliers_count_specified"
      ],
      "metadata": {
        "colab": {
          "base_uri": "https://localhost:8080/"
        },
        "id": "dafIe1dDQHb8",
        "outputId": "1702c681-e13a-4b55-f019-735c7c1c1a43"
      },
      "execution_count": null,
      "outputs": [
        {
          "output_type": "execute_result",
          "data": {
            "text/plain": [
              "trestbps     28\n",
              "chol        185\n",
              "thalch        2\n",
              "oldpeak      16\n",
              "dtype: int64"
            ]
          },
          "metadata": {},
          "execution_count": 215
        }
      ]
    },
    {
      "cell_type": "code",
      "source": [
        "# remove outliers in 'trestbps' column\n",
        "Q3 = df['trestbps'].quantile(0.25)\n",
        "Q4 = df['trestbps'].quantile(0.75)\n",
        "IQR = Q4 - Q3+\n",
        "lower_bound = Q3 - 1.5 * IQR\n",
        "upper_bound = Q4 + 1.5 * IQR\n",
        "df=df[(df['trestbps'] >= lower_bound) & (df['trestbps'] <= upper_bound)]"
      ],
      "metadata": {
        "id": "yF0OxB5cistg"
      },
      "execution_count": null,
      "outputs": []
    },
    {
      "cell_type": "code",
      "source": [
        "# remove outliers in 'oldpeak' column\n",
        "Q5 = df['oldpeak'].quantile(0.25)\n",
        "Q6 = df['oldpeak'].quantile(0.75)\n",
        "IQR = Q6 - Q5\n",
        "lower_bound = Q5 - 1.5 * IQR\n",
        "upper_bound = Q6 + 1.5 * IQR\n",
        "df=df[(df['oldpeak'] >= lower_bound) & (df['oldpeak'] <= upper_bound)]"
      ],
      "metadata": {
        "id": "p4ze7qkp_lUw"
      },
      "execution_count": null,
      "outputs": []
    },
    {
      "cell_type": "code",
      "source": [
        "df['thalch'].skew()"
      ],
      "metadata": {
        "colab": {
          "base_uri": "https://localhost:8080/"
        },
        "id": "ogCed08o_GzR",
        "outputId": "99ca91ae-96f2-4971-980e-86d6a0efed85"
      },
      "execution_count": null,
      "outputs": [
        {
          "output_type": "execute_result",
          "data": {
            "text/plain": [
              "-0.21299267126525606"
            ]
          },
          "metadata": {},
          "execution_count": 218
        }
      ]
    },
    {
      "cell_type": "code",
      "source": [
        "# remove outliers in 'thalch' column\n",
        "Q7 = df['thalch'].quantile(0.25)\n",
        "Q8 = df['thalch'].quantile(0.75)\n",
        "IQR = Q8 - Q7\n",
        "lower_bound = Q7 - 1.5 * IQR\n",
        "upper_bound = Q8 + 1.5 * IQR\n",
        "df=df[(df['thalch'] >= lower_bound) & (df['thalch'] <= upper_bound)]"
      ],
      "metadata": {
        "id": "z9FfHIziFeDQ"
      },
      "execution_count": null,
      "outputs": []
    },
    {
      "cell_type": "code",
      "source": [
        "df['chol'].skew()"
      ],
      "metadata": {
        "colab": {
          "base_uri": "https://localhost:8080/"
        },
        "id": "0DmOiSfZ_Nyn",
        "outputId": "b6d62078-baec-42cc-ca1c-291a25122472"
      },
      "execution_count": null,
      "outputs": [
        {
          "output_type": "execute_result",
          "data": {
            "text/plain": [
              "-0.6209061801185848"
            ]
          },
          "metadata": {},
          "execution_count": 220
        }
      ]
    },
    {
      "cell_type": "code",
      "source": [
        "# remove outliers in 'chol' column\n",
        "Q9 = df['chol'].quantile(0.25)\n",
        "Q10 = df['chol'].quantile(0.75)\n",
        "IQR = Q10 - Q9\n",
        "lower_bound = Q9 - 1.5 * IQR\n",
        "upper_bound = Q10 + 1.5 * IQR\n",
        "df=df[(df['chol'] >= lower_bound) & (df['chol'] <= upper_bound)]"
      ],
      "metadata": {
        "id": "Nom_bKHGFqCW"
      },
      "execution_count": null,
      "outputs": []
    },
    {
      "cell_type": "markdown",
      "source": [
        "Deal With Outliers"
      ],
      "metadata": {
        "id": "qUTt8uovPq2H"
      }
    },
    {
      "cell_type": "code",
      "source": [
        "#check number outliers in numeric_cols using IQR\n",
        "Q11 = df[num_cols_with_missing].quantile(0.25)\n",
        "Q12 = df[num_cols_with_missing].quantile(0.75)\n",
        "IQR = Q12 - Q11\n",
        "outliers_count_specified = ((df[num_cols_with_missing] < (Q11 - 1.5 * IQR)) | (df[num_cols_with_missing] > (Q12 + 1.5 * IQR))).sum()\n",
        "\n",
        "outliers_count_specified"
      ],
      "metadata": {
        "colab": {
          "base_uri": "https://localhost:8080/"
        },
        "id": "UtXhwkqucnKM",
        "outputId": "01b48fee-c91a-4aef-e734-8b759eb76284"
      },
      "execution_count": null,
      "outputs": [
        {
          "output_type": "execute_result",
          "data": {
            "text/plain": [
              "trestbps    0\n",
              "chol        9\n",
              "thalch      1\n",
              "oldpeak     0\n",
              "dtype: int64"
            ]
          },
          "metadata": {},
          "execution_count": 222
        }
      ]
    },
    {
      "cell_type": "code",
      "source": [
        "# remove remaining outliers in 'thalch' column\n",
        "Q13 = df['thalch'].quantile(0.25)\n",
        "Q14 = df['thalch'].quantile(0.75)\n",
        "IQR = Q14 - Q13\n",
        "lower_bound = Q13 - 0.75 * IQR\n",
        "upper_bound = Q14 + 0.75 * IQR\n",
        "df=df[(df['thalch'] >= lower_bound) & (df['thalch'] <= upper_bound)]"
      ],
      "metadata": {
        "id": "P9K3as5pku9r"
      },
      "execution_count": null,
      "outputs": []
    },
    {
      "cell_type": "code",
      "source": [
        "# remove remaining outliers in 'chol' column\n",
        "Q15 = df['chol'].quantile(0.25)\n",
        "Q16 = df['chol'].quantile(0.75)\n",
        "IQR = Q16 - Q15\n",
        "lower_bound = Q15 - 0.75 * IQR\n",
        "upper_bound = Q16 + 0.75 * IQR\n",
        "df=df[(df['chol'] >= lower_bound) & (df['chol'] <= upper_bound)]"
      ],
      "metadata": {
        "id": "27xhvNV_lXGB",
        "colab": {
          "base_uri": "https://localhost:8080/",
          "height": 219
        },
        "outputId": "9ffadafd-6f5d-43f4-d02b-cbbeb6f02f8a"
      },
      "execution_count": null,
      "outputs": [
        {
          "output_type": "error",
          "ename": "NameError",
          "evalue": "name 'df' is not defined",
          "traceback": [
            "\u001b[0;31m---------------------------------------------------------------------------\u001b[0m",
            "\u001b[0;31mNameError\u001b[0m                                 Traceback (most recent call last)",
            "\u001b[0;32m<ipython-input-1-d45f46081e9f>\u001b[0m in \u001b[0;36m<cell line: 1>\u001b[0;34m()\u001b[0m\n\u001b[0;32m----> 1\u001b[0;31m \u001b[0mQ15\u001b[0m \u001b[0;34m=\u001b[0m \u001b[0mdf\u001b[0m\u001b[0;34m[\u001b[0m\u001b[0;34m'chol'\u001b[0m\u001b[0;34m]\u001b[0m\u001b[0;34m.\u001b[0m\u001b[0mquantile\u001b[0m\u001b[0;34m(\u001b[0m\u001b[0;36m0.25\u001b[0m\u001b[0;34m)\u001b[0m\u001b[0;34m\u001b[0m\u001b[0;34m\u001b[0m\u001b[0m\n\u001b[0m\u001b[1;32m      2\u001b[0m \u001b[0mQ16\u001b[0m \u001b[0;34m=\u001b[0m \u001b[0mdf\u001b[0m\u001b[0;34m[\u001b[0m\u001b[0;34m'chol'\u001b[0m\u001b[0;34m]\u001b[0m\u001b[0;34m.\u001b[0m\u001b[0mquantile\u001b[0m\u001b[0;34m(\u001b[0m\u001b[0;36m0.75\u001b[0m\u001b[0;34m)\u001b[0m\u001b[0;34m\u001b[0m\u001b[0;34m\u001b[0m\u001b[0m\n\u001b[1;32m      3\u001b[0m \u001b[0mIQR\u001b[0m \u001b[0;34m=\u001b[0m \u001b[0mQ16\u001b[0m \u001b[0;34m-\u001b[0m \u001b[0mQ15\u001b[0m\u001b[0;34m\u001b[0m\u001b[0;34m\u001b[0m\u001b[0m\n\u001b[1;32m      4\u001b[0m \u001b[0mlower_bound\u001b[0m \u001b[0;34m=\u001b[0m \u001b[0mQ15\u001b[0m \u001b[0;34m-\u001b[0m \u001b[0;36m0.75\u001b[0m \u001b[0;34m*\u001b[0m \u001b[0mIQR\u001b[0m\u001b[0;34m\u001b[0m\u001b[0;34m\u001b[0m\u001b[0m\n\u001b[1;32m      5\u001b[0m \u001b[0mupper_bound\u001b[0m \u001b[0;34m=\u001b[0m \u001b[0mQ16\u001b[0m \u001b[0;34m+\u001b[0m \u001b[0;36m0.75\u001b[0m \u001b[0;34m*\u001b[0m \u001b[0mIQR\u001b[0m\u001b[0;34m\u001b[0m\u001b[0;34m\u001b[0m\u001b[0m\n",
            "\u001b[0;31mNameError\u001b[0m: name 'df' is not defined"
          ]
        }
      ]
    },
    {
      "cell_type": "code",
      "source": [
        "# remove remaining outliers in 'oldpeak' column\n",
        "Q17 = df['oldpeak'].quantile(0.25)\n",
        "Q18 = df['oldpeak'].quantile(0.75)\n",
        "IQR = Q18 - Q17\n",
        "lower_bound = Q17 - 0.75 * IQR\n",
        "upper_bound = Q18 + 0.75 * IQR\n",
        "df=df[(df['oldpeak'] >= lower_bound) & (df['oldpeak'] <= upper_bound)]"
      ],
      "metadata": {
        "id": "67g-Ra6qm1hn"
      },
      "execution_count": null,
      "outputs": []
    },
    {
      "cell_type": "code",
      "source": [
        "#check number outliers in numeric_cols using IQR\n",
        "Q11 = df[num_cols_with_missing].quantile(0.25)\n",
        "Q12 = df[num_cols_with_missing].quantile(0.75)\n",
        "IQR = Q12 - Q11\n",
        "outliers_count_specified = ((df[num_cols_with_missing] < (Q11 - 1.5 * IQR)) | (df[num_cols_with_missing] > (Q12 + 1.5 * IQR))).sum()\n",
        "\n",
        "outliers_count_specified"
      ],
      "metadata": {
        "colab": {
          "base_uri": "https://localhost:8080/"
        },
        "id": "FgZMba_slkTO",
        "outputId": "cdddacb4-158a-4ce5-d2c5-c27bdeecd9fe"
      },
      "execution_count": null,
      "outputs": [
        {
          "output_type": "execute_result",
          "data": {
            "text/plain": [
              "trestbps    0\n",
              "chol        0\n",
              "thalch      0\n",
              "oldpeak     0\n",
              "dtype: int64"
            ]
          },
          "metadata": {},
          "execution_count": 226
        }
      ]
    },
    {
      "cell_type": "code",
      "source": [
        "df.shape"
      ],
      "metadata": {
        "colab": {
          "base_uri": "https://localhost:8080/"
        },
        "id": "uSbwh8mvnXpz",
        "outputId": "8d262903-eece-443d-dc7d-222a2e74c409"
      },
      "execution_count": null,
      "outputs": [
        {
          "output_type": "execute_result",
          "data": {
            "text/plain": [
              "(563, 16)"
            ]
          },
          "metadata": {},
          "execution_count": 227
        }
      ]
    },
    {
      "cell_type": "markdown",
      "source": [
        "3. Handling Outliers in Age Column¶"
      ],
      "metadata": {
        "id": "lalc720GTeN4"
      }
    },
    {
      "cell_type": "code",
      "source": [
        "#statistical analysis of age\n",
        "df.age.describe()"
      ],
      "metadata": {
        "colab": {
          "base_uri": "https://localhost:8080/"
        },
        "id": "s-PSAPbVTjFY",
        "outputId": "e3cb2490-7789-4209-d59a-d49bbe0b7a92"
      },
      "execution_count": null,
      "outputs": [
        {
          "output_type": "execute_result",
          "data": {
            "text/plain": [
              "count    563.000000\n",
              "mean      52.209591\n",
              "std        9.451813\n",
              "min       29.000000\n",
              "25%       45.000000\n",
              "50%       53.000000\n",
              "75%       58.000000\n",
              "max       77.000000\n",
              "Name: age, dtype: float64"
            ]
          },
          "metadata": {},
          "execution_count": 228
        }
      ]
    },
    {
      "cell_type": "markdown",
      "source": [
        "Minimum age is 31 to have chest pain which can be possible so its not an outlier.\\ We have observed that the minimum age for experiencing chest pain is 31, any observation at this age wouldn't be considered an outlier within the context of age-related data. Outliers typically deviate significantly from the majority of observations, but in this case, 31 falls within the expected range for experiencing chest pain.\n",
        "\n",
        "max age is 77 which is also possible so its not an outlier as well.\\ The maximum age for experiencing chest pain is 77, any observation at this age wouldn't be classified as an outlier within the dataset. Outliers are typically defined as values that significantly deviate from the majority, but in this case, 77 falls within the expected range for chest pain occurrences."
      ],
      "metadata": {
        "id": "5S-I5LIlTugw"
      }
    },
    {
      "cell_type": "markdown",
      "source": [
        "Everything seems ok and there is no outliers in the columns.\n",
        "Columns are cleaned from outliers and missing values and we have already analysis the data.\n",
        "The next step should be Model building"
      ],
      "metadata": {
        "id": "0VsQRJpHZQul"
      }
    },
    {
      "cell_type": "markdown",
      "source": [
        "\n",
        "\n",
        "\n",
        "Machine Learning Models\n",
        "\n"
      ],
      "metadata": {
        "id": "8sjoYsqhZTS2"
      }
    },
    {
      "cell_type": "code",
      "source": [
        "df.info()"
      ],
      "metadata": {
        "colab": {
          "base_uri": "https://localhost:8080/"
        },
        "id": "2yMzIo_6ZYCO",
        "outputId": "d79c9b9f-1b9f-4319-d2a2-82a7b9b0104b"
      },
      "execution_count": null,
      "outputs": [
        {
          "output_type": "stream",
          "name": "stdout",
          "text": [
            "<class 'pandas.core.frame.DataFrame'>\n",
            "Index: 563 entries, 0 to 917\n",
            "Data columns (total 16 columns):\n",
            " #   Column    Non-Null Count  Dtype  \n",
            "---  ------    --------------  -----  \n",
            " 0   id        563 non-null    int64  \n",
            " 1   age       563 non-null    int64  \n",
            " 2   sex       563 non-null    object \n",
            " 3   dataset   563 non-null    object \n",
            " 4   cp        563 non-null    object \n",
            " 5   trestbps  563 non-null    float64\n",
            " 6   chol      563 non-null    float64\n",
            " 7   fbs       563 non-null    bool   \n",
            " 8   restecg   563 non-null    object \n",
            " 9   thalch    563 non-null    float64\n",
            " 10  exang     563 non-null    bool   \n",
            " 11  oldpeak   563 non-null    float64\n",
            " 12  slope     563 non-null    object \n",
            " 13  ca        563 non-null    float64\n",
            " 14  thal      563 non-null    object \n",
            " 15  num       563 non-null    int64  \n",
            "dtypes: bool(2), float64(5), int64(3), object(6)\n",
            "memory usage: 67.1+ KB\n"
          ]
        }
      ]
    },
    {
      "cell_type": "code",
      "source": [
        "#display dtaset columns\n",
        "df.columns"
      ],
      "metadata": {
        "colab": {
          "base_uri": "https://localhost:8080/"
        },
        "id": "XSzcNIFyZfsN",
        "outputId": "f97d1b74-9c27-4289-bf9d-bb3100dc703b"
      },
      "execution_count": null,
      "outputs": [
        {
          "output_type": "execute_result",
          "data": {
            "text/plain": [
              "Index(['id', 'age', 'sex', 'dataset', 'cp', 'trestbps', 'chol', 'fbs',\n",
              "       'restecg', 'thalch', 'exang', 'oldpeak', 'slope', 'ca', 'thal', 'num'],\n",
              "      dtype='object')"
            ]
          },
          "metadata": {},
          "execution_count": 230
        }
      ]
    },
    {
      "cell_type": "code",
      "source": [
        "#display first 5 rows od dataset\n",
        "df.head()"
      ],
      "metadata": {
        "colab": {
          "base_uri": "https://localhost:8080/",
          "height": 313
        },
        "id": "7aaS5evRZkdT",
        "outputId": "05d61378-e183-422b-c913-04f5221a5398"
      },
      "execution_count": null,
      "outputs": [
        {
          "output_type": "execute_result",
          "data": {
            "text/plain": [
              "   id  age     sex    dataset               cp  trestbps   chol    fbs  \\\n",
              "0   1   63    Male  Cleveland   typical angina     145.0  233.0   True   \n",
              "1   2   67    Male  Cleveland     asymptomatic     160.0  286.0  False   \n",
              "4   5   41  Female  Cleveland  atypical angina     130.0  204.0  False   \n",
              "5   6   56    Male  Cleveland  atypical angina     120.0  236.0  False   \n",
              "8   9   63    Male  Cleveland     asymptomatic     130.0  254.0  False   \n",
              "\n",
              "          restecg  thalch  exang  oldpeak        slope   ca  \\\n",
              "0  lv hypertrophy   150.0  False      2.3  downsloping  0.0   \n",
              "1  lv hypertrophy   108.0   True      1.5         flat  3.0   \n",
              "4  lv hypertrophy   172.0  False      1.4    upsloping  0.0   \n",
              "5          normal   178.0  False      0.8    upsloping  0.0   \n",
              "8  lv hypertrophy   147.0  False      1.4         flat  1.0   \n",
              "\n",
              "                thal  num  \n",
              "0       fixed defect    0  \n",
              "1             normal    2  \n",
              "4             normal    0  \n",
              "5             normal    0  \n",
              "8  reversable defect    2  "
            ],
            "text/html": [
              "\n",
              "  <div id=\"df-c587e078-1209-4390-bf31-f89937ba5aad\" class=\"colab-df-container\">\n",
              "    <div>\n",
              "<style scoped>\n",
              "    .dataframe tbody tr th:only-of-type {\n",
              "        vertical-align: middle;\n",
              "    }\n",
              "\n",
              "    .dataframe tbody tr th {\n",
              "        vertical-align: top;\n",
              "    }\n",
              "\n",
              "    .dataframe thead th {\n",
              "        text-align: right;\n",
              "    }\n",
              "</style>\n",
              "<table border=\"1\" class=\"dataframe\">\n",
              "  <thead>\n",
              "    <tr style=\"text-align: right;\">\n",
              "      <th></th>\n",
              "      <th>id</th>\n",
              "      <th>age</th>\n",
              "      <th>sex</th>\n",
              "      <th>dataset</th>\n",
              "      <th>cp</th>\n",
              "      <th>trestbps</th>\n",
              "      <th>chol</th>\n",
              "      <th>fbs</th>\n",
              "      <th>restecg</th>\n",
              "      <th>thalch</th>\n",
              "      <th>exang</th>\n",
              "      <th>oldpeak</th>\n",
              "      <th>slope</th>\n",
              "      <th>ca</th>\n",
              "      <th>thal</th>\n",
              "      <th>num</th>\n",
              "    </tr>\n",
              "  </thead>\n",
              "  <tbody>\n",
              "    <tr>\n",
              "      <th>0</th>\n",
              "      <td>1</td>\n",
              "      <td>63</td>\n",
              "      <td>Male</td>\n",
              "      <td>Cleveland</td>\n",
              "      <td>typical angina</td>\n",
              "      <td>145.0</td>\n",
              "      <td>233.0</td>\n",
              "      <td>True</td>\n",
              "      <td>lv hypertrophy</td>\n",
              "      <td>150.0</td>\n",
              "      <td>False</td>\n",
              "      <td>2.3</td>\n",
              "      <td>downsloping</td>\n",
              "      <td>0.0</td>\n",
              "      <td>fixed defect</td>\n",
              "      <td>0</td>\n",
              "    </tr>\n",
              "    <tr>\n",
              "      <th>1</th>\n",
              "      <td>2</td>\n",
              "      <td>67</td>\n",
              "      <td>Male</td>\n",
              "      <td>Cleveland</td>\n",
              "      <td>asymptomatic</td>\n",
              "      <td>160.0</td>\n",
              "      <td>286.0</td>\n",
              "      <td>False</td>\n",
              "      <td>lv hypertrophy</td>\n",
              "      <td>108.0</td>\n",
              "      <td>True</td>\n",
              "      <td>1.5</td>\n",
              "      <td>flat</td>\n",
              "      <td>3.0</td>\n",
              "      <td>normal</td>\n",
              "      <td>2</td>\n",
              "    </tr>\n",
              "    <tr>\n",
              "      <th>4</th>\n",
              "      <td>5</td>\n",
              "      <td>41</td>\n",
              "      <td>Female</td>\n",
              "      <td>Cleveland</td>\n",
              "      <td>atypical angina</td>\n",
              "      <td>130.0</td>\n",
              "      <td>204.0</td>\n",
              "      <td>False</td>\n",
              "      <td>lv hypertrophy</td>\n",
              "      <td>172.0</td>\n",
              "      <td>False</td>\n",
              "      <td>1.4</td>\n",
              "      <td>upsloping</td>\n",
              "      <td>0.0</td>\n",
              "      <td>normal</td>\n",
              "      <td>0</td>\n",
              "    </tr>\n",
              "    <tr>\n",
              "      <th>5</th>\n",
              "      <td>6</td>\n",
              "      <td>56</td>\n",
              "      <td>Male</td>\n",
              "      <td>Cleveland</td>\n",
              "      <td>atypical angina</td>\n",
              "      <td>120.0</td>\n",
              "      <td>236.0</td>\n",
              "      <td>False</td>\n",
              "      <td>normal</td>\n",
              "      <td>178.0</td>\n",
              "      <td>False</td>\n",
              "      <td>0.8</td>\n",
              "      <td>upsloping</td>\n",
              "      <td>0.0</td>\n",
              "      <td>normal</td>\n",
              "      <td>0</td>\n",
              "    </tr>\n",
              "    <tr>\n",
              "      <th>8</th>\n",
              "      <td>9</td>\n",
              "      <td>63</td>\n",
              "      <td>Male</td>\n",
              "      <td>Cleveland</td>\n",
              "      <td>asymptomatic</td>\n",
              "      <td>130.0</td>\n",
              "      <td>254.0</td>\n",
              "      <td>False</td>\n",
              "      <td>lv hypertrophy</td>\n",
              "      <td>147.0</td>\n",
              "      <td>False</td>\n",
              "      <td>1.4</td>\n",
              "      <td>flat</td>\n",
              "      <td>1.0</td>\n",
              "      <td>reversable defect</td>\n",
              "      <td>2</td>\n",
              "    </tr>\n",
              "  </tbody>\n",
              "</table>\n",
              "</div>\n",
              "    <div class=\"colab-df-buttons\">\n",
              "\n",
              "  <div class=\"colab-df-container\">\n",
              "    <button class=\"colab-df-convert\" onclick=\"convertToInteractive('df-c587e078-1209-4390-bf31-f89937ba5aad')\"\n",
              "            title=\"Convert this dataframe to an interactive table.\"\n",
              "            style=\"display:none;\">\n",
              "\n",
              "  <svg xmlns=\"http://www.w3.org/2000/svg\" height=\"24px\" viewBox=\"0 -960 960 960\">\n",
              "    <path d=\"M120-120v-720h720v720H120Zm60-500h600v-160H180v160Zm220 220h160v-160H400v160Zm0 220h160v-160H400v160ZM180-400h160v-160H180v160Zm440 0h160v-160H620v160ZM180-180h160v-160H180v160Zm440 0h160v-160H620v160Z\"/>\n",
              "  </svg>\n",
              "    </button>\n",
              "\n",
              "  <style>\n",
              "    .colab-df-container {\n",
              "      display:flex;\n",
              "      gap: 12px;\n",
              "    }\n",
              "\n",
              "    .colab-df-convert {\n",
              "      background-color: #E8F0FE;\n",
              "      border: none;\n",
              "      border-radius: 50%;\n",
              "      cursor: pointer;\n",
              "      display: none;\n",
              "      fill: #1967D2;\n",
              "      height: 32px;\n",
              "      padding: 0 0 0 0;\n",
              "      width: 32px;\n",
              "    }\n",
              "\n",
              "    .colab-df-convert:hover {\n",
              "      background-color: #E2EBFA;\n",
              "      box-shadow: 0px 1px 2px rgba(60, 64, 67, 0.3), 0px 1px 3px 1px rgba(60, 64, 67, 0.15);\n",
              "      fill: #174EA6;\n",
              "    }\n",
              "\n",
              "    .colab-df-buttons div {\n",
              "      margin-bottom: 4px;\n",
              "    }\n",
              "\n",
              "    [theme=dark] .colab-df-convert {\n",
              "      background-color: #3B4455;\n",
              "      fill: #D2E3FC;\n",
              "    }\n",
              "\n",
              "    [theme=dark] .colab-df-convert:hover {\n",
              "      background-color: #434B5C;\n",
              "      box-shadow: 0px 1px 3px 1px rgba(0, 0, 0, 0.15);\n",
              "      filter: drop-shadow(0px 1px 2px rgba(0, 0, 0, 0.3));\n",
              "      fill: #FFFFFF;\n",
              "    }\n",
              "  </style>\n",
              "\n",
              "    <script>\n",
              "      const buttonEl =\n",
              "        document.querySelector('#df-c587e078-1209-4390-bf31-f89937ba5aad button.colab-df-convert');\n",
              "      buttonEl.style.display =\n",
              "        google.colab.kernel.accessAllowed ? 'block' : 'none';\n",
              "\n",
              "      async function convertToInteractive(key) {\n",
              "        const element = document.querySelector('#df-c587e078-1209-4390-bf31-f89937ba5aad');\n",
              "        const dataTable =\n",
              "          await google.colab.kernel.invokeFunction('convertToInteractive',\n",
              "                                                    [key], {});\n",
              "        if (!dataTable) return;\n",
              "\n",
              "        const docLinkHtml = 'Like what you see? Visit the ' +\n",
              "          '<a target=\"_blank\" href=https://colab.research.google.com/notebooks/data_table.ipynb>data table notebook</a>'\n",
              "          + ' to learn more about interactive tables.';\n",
              "        element.innerHTML = '';\n",
              "        dataTable['output_type'] = 'display_data';\n",
              "        await google.colab.output.renderOutput(dataTable, element);\n",
              "        const docLink = document.createElement('div');\n",
              "        docLink.innerHTML = docLinkHtml;\n",
              "        element.appendChild(docLink);\n",
              "      }\n",
              "    </script>\n",
              "  </div>\n",
              "\n",
              "\n",
              "<div id=\"df-5a733f32-3173-44fd-9301-c02b11e06c3a\">\n",
              "  <button class=\"colab-df-quickchart\" onclick=\"quickchart('df-5a733f32-3173-44fd-9301-c02b11e06c3a')\"\n",
              "            title=\"Suggest charts\"\n",
              "            style=\"display:none;\">\n",
              "\n",
              "<svg xmlns=\"http://www.w3.org/2000/svg\" height=\"24px\"viewBox=\"0 0 24 24\"\n",
              "     width=\"24px\">\n",
              "    <g>\n",
              "        <path d=\"M19 3H5c-1.1 0-2 .9-2 2v14c0 1.1.9 2 2 2h14c1.1 0 2-.9 2-2V5c0-1.1-.9-2-2-2zM9 17H7v-7h2v7zm4 0h-2V7h2v10zm4 0h-2v-4h2v4z\"/>\n",
              "    </g>\n",
              "</svg>\n",
              "  </button>\n",
              "\n",
              "<style>\n",
              "  .colab-df-quickchart {\n",
              "      --bg-color: #E8F0FE;\n",
              "      --fill-color: #1967D2;\n",
              "      --hover-bg-color: #E2EBFA;\n",
              "      --hover-fill-color: #174EA6;\n",
              "      --disabled-fill-color: #AAA;\n",
              "      --disabled-bg-color: #DDD;\n",
              "  }\n",
              "\n",
              "  [theme=dark] .colab-df-quickchart {\n",
              "      --bg-color: #3B4455;\n",
              "      --fill-color: #D2E3FC;\n",
              "      --hover-bg-color: #434B5C;\n",
              "      --hover-fill-color: #FFFFFF;\n",
              "      --disabled-bg-color: #3B4455;\n",
              "      --disabled-fill-color: #666;\n",
              "  }\n",
              "\n",
              "  .colab-df-quickchart {\n",
              "    background-color: var(--bg-color);\n",
              "    border: none;\n",
              "    border-radius: 50%;\n",
              "    cursor: pointer;\n",
              "    display: none;\n",
              "    fill: var(--fill-color);\n",
              "    height: 32px;\n",
              "    padding: 0;\n",
              "    width: 32px;\n",
              "  }\n",
              "\n",
              "  .colab-df-quickchart:hover {\n",
              "    background-color: var(--hover-bg-color);\n",
              "    box-shadow: 0 1px 2px rgba(60, 64, 67, 0.3), 0 1px 3px 1px rgba(60, 64, 67, 0.15);\n",
              "    fill: var(--button-hover-fill-color);\n",
              "  }\n",
              "\n",
              "  .colab-df-quickchart-complete:disabled,\n",
              "  .colab-df-quickchart-complete:disabled:hover {\n",
              "    background-color: var(--disabled-bg-color);\n",
              "    fill: var(--disabled-fill-color);\n",
              "    box-shadow: none;\n",
              "  }\n",
              "\n",
              "  .colab-df-spinner {\n",
              "    border: 2px solid var(--fill-color);\n",
              "    border-color: transparent;\n",
              "    border-bottom-color: var(--fill-color);\n",
              "    animation:\n",
              "      spin 1s steps(1) infinite;\n",
              "  }\n",
              "\n",
              "  @keyframes spin {\n",
              "    0% {\n",
              "      border-color: transparent;\n",
              "      border-bottom-color: var(--fill-color);\n",
              "      border-left-color: var(--fill-color);\n",
              "    }\n",
              "    20% {\n",
              "      border-color: transparent;\n",
              "      border-left-color: var(--fill-color);\n",
              "      border-top-color: var(--fill-color);\n",
              "    }\n",
              "    30% {\n",
              "      border-color: transparent;\n",
              "      border-left-color: var(--fill-color);\n",
              "      border-top-color: var(--fill-color);\n",
              "      border-right-color: var(--fill-color);\n",
              "    }\n",
              "    40% {\n",
              "      border-color: transparent;\n",
              "      border-right-color: var(--fill-color);\n",
              "      border-top-color: var(--fill-color);\n",
              "    }\n",
              "    60% {\n",
              "      border-color: transparent;\n",
              "      border-right-color: var(--fill-color);\n",
              "    }\n",
              "    80% {\n",
              "      border-color: transparent;\n",
              "      border-right-color: var(--fill-color);\n",
              "      border-bottom-color: var(--fill-color);\n",
              "    }\n",
              "    90% {\n",
              "      border-color: transparent;\n",
              "      border-bottom-color: var(--fill-color);\n",
              "    }\n",
              "  }\n",
              "</style>\n",
              "\n",
              "  <script>\n",
              "    async function quickchart(key) {\n",
              "      const quickchartButtonEl =\n",
              "        document.querySelector('#' + key + ' button');\n",
              "      quickchartButtonEl.disabled = true;  // To prevent multiple clicks.\n",
              "      quickchartButtonEl.classList.add('colab-df-spinner');\n",
              "      try {\n",
              "        const charts = await google.colab.kernel.invokeFunction(\n",
              "            'suggestCharts', [key], {});\n",
              "      } catch (error) {\n",
              "        console.error('Error during call to suggestCharts:', error);\n",
              "      }\n",
              "      quickchartButtonEl.classList.remove('colab-df-spinner');\n",
              "      quickchartButtonEl.classList.add('colab-df-quickchart-complete');\n",
              "    }\n",
              "    (() => {\n",
              "      let quickchartButtonEl =\n",
              "        document.querySelector('#df-5a733f32-3173-44fd-9301-c02b11e06c3a button');\n",
              "      quickchartButtonEl.style.display =\n",
              "        google.colab.kernel.accessAllowed ? 'block' : 'none';\n",
              "    })();\n",
              "  </script>\n",
              "</div>\n",
              "\n",
              "    </div>\n",
              "  </div>\n"
            ],
            "application/vnd.google.colaboratory.intrinsic+json": {
              "type": "dataframe",
              "variable_name": "df",
              "summary": "{\n  \"name\": \"df\",\n  \"rows\": 563,\n  \"fields\": [\n    {\n      \"column\": \"id\",\n      \"properties\": {\n        \"dtype\": \"number\",\n        \"std\": 259,\n        \"min\": 1,\n        \"max\": 918,\n        \"num_unique_values\": 563,\n        \"samples\": [\n          331,\n          861,\n          353\n        ],\n        \"semantic_type\": \"\",\n        \"description\": \"\"\n      }\n    },\n    {\n      \"column\": \"age\",\n      \"properties\": {\n        \"dtype\": \"number\",\n        \"std\": 9,\n        \"min\": 29,\n        \"max\": 77,\n        \"num_unique_values\": 48,\n        \"samples\": [\n          66,\n          29,\n          47\n        ],\n        \"semantic_type\": \"\",\n        \"description\": \"\"\n      }\n    },\n    {\n      \"column\": \"sex\",\n      \"properties\": {\n        \"dtype\": \"category\",\n        \"num_unique_values\": 2,\n        \"samples\": [\n          \"Female\",\n          \"Male\"\n        ],\n        \"semantic_type\": \"\",\n        \"description\": \"\"\n      }\n    },\n    {\n      \"column\": \"dataset\",\n      \"properties\": {\n        \"dtype\": \"category\",\n        \"num_unique_values\": 3,\n        \"samples\": [\n          \"Cleveland\",\n          \"Hungary\"\n        ],\n        \"semantic_type\": \"\",\n        \"description\": \"\"\n      }\n    },\n    {\n      \"column\": \"cp\",\n      \"properties\": {\n        \"dtype\": \"category\",\n        \"num_unique_values\": 4,\n        \"samples\": [\n          \"asymptomatic\",\n          \"non-anginal\"\n        ],\n        \"semantic_type\": \"\",\n        \"description\": \"\"\n      }\n    },\n    {\n      \"column\": \"trestbps\",\n      \"properties\": {\n        \"dtype\": \"number\",\n        \"std\": 14.840832153878685,\n        \"min\": 94.0,\n        \"max\": 170.0,\n        \"num_unique_values\": 44,\n        \"samples\": [\n          106.0,\n          170.0\n        ],\n        \"semantic_type\": \"\",\n        \"description\": \"\"\n      }\n    },\n    {\n      \"column\": \"chol\",\n      \"properties\": {\n        \"dtype\": \"number\",\n        \"std\": 40.05949858163298,\n        \"min\": 156.0,\n        \"max\": 322.0,\n        \"num_unique_values\": 153,\n        \"samples\": [\n          299.0,\n          293.0\n        ],\n        \"semantic_type\": \"\",\n        \"description\": \"\"\n      }\n    },\n    {\n      \"column\": \"fbs\",\n      \"properties\": {\n        \"dtype\": \"boolean\",\n        \"num_unique_values\": 2,\n        \"samples\": [\n          false,\n          true\n        ],\n        \"semantic_type\": \"\",\n        \"description\": \"\"\n      }\n    },\n    {\n      \"column\": \"restecg\",\n      \"properties\": {\n        \"dtype\": \"category\",\n        \"num_unique_values\": 3,\n        \"samples\": [\n          \"lv hypertrophy\",\n          \"normal\"\n        ],\n        \"semantic_type\": \"\",\n        \"description\": \"\"\n      }\n    },\n    {\n      \"column\": \"thalch\",\n      \"properties\": {\n        \"dtype\": \"number\",\n        \"std\": 21.247132938767148,\n        \"min\": 99.0,\n        \"max\": 186.0,\n        \"num_unique_values\": 85,\n        \"samples\": [\n          137.5456647398844,\n          150.0\n        ],\n        \"semantic_type\": \"\",\n        \"description\": \"\"\n      }\n    },\n    {\n      \"column\": \"exang\",\n      \"properties\": {\n        \"dtype\": \"boolean\",\n        \"num_unique_values\": 2,\n        \"samples\": [\n          true,\n          false\n        ],\n        \"semantic_type\": \"\",\n        \"description\": \"\"\n      }\n    },\n    {\n      \"column\": \"oldpeak\",\n      \"properties\": {\n        \"dtype\": \"number\",\n        \"std\": 0.7268731245304936,\n        \"min\": 0.0,\n        \"max\": 2.4,\n        \"num_unique_values\": 25,\n        \"samples\": [\n          1.6,\n          2.2\n        ],\n        \"semantic_type\": \"\",\n        \"description\": \"\"\n      }\n    },\n    {\n      \"column\": \"slope\",\n      \"properties\": {\n        \"dtype\": \"category\",\n        \"num_unique_values\": 3,\n        \"samples\": [\n          \"downsloping\",\n          \"flat\"\n        ],\n        \"semantic_type\": \"\",\n        \"description\": \"\"\n      }\n    },\n    {\n      \"column\": \"ca\",\n      \"properties\": {\n        \"dtype\": \"number\",\n        \"std\": 0.6406024389104081,\n        \"min\": 0.0,\n        \"max\": 3.0,\n        \"num_unique_values\": 4,\n        \"samples\": [\n          3.0,\n          2.0\n        ],\n        \"semantic_type\": \"\",\n        \"description\": \"\"\n      }\n    },\n    {\n      \"column\": \"thal\",\n      \"properties\": {\n        \"dtype\": \"category\",\n        \"num_unique_values\": 3,\n        \"samples\": [\n          \"fixed defect\",\n          \"normal\"\n        ],\n        \"semantic_type\": \"\",\n        \"description\": \"\"\n      }\n    },\n    {\n      \"column\": \"num\",\n      \"properties\": {\n        \"dtype\": \"number\",\n        \"std\": 0,\n        \"min\": 0,\n        \"max\": 4,\n        \"num_unique_values\": 5,\n        \"samples\": [\n          2,\n          3\n        ],\n        \"semantic_type\": \"\",\n        \"description\": \"\"\n      }\n    }\n  ]\n}"
            }
          },
          "metadata": {},
          "execution_count": 231
        }
      ]
    },
    {
      "cell_type": "markdown",
      "source": [
        "Evaluation of Models"
      ],
      "metadata": {
        "id": "WnuuLg-rfVzN"
      }
    },
    {
      "cell_type": "markdown",
      "source": [
        "Enlist all the models that you will use to predict the heart disease. These models should be classifiers for multi_class classification.\n",
        "\n",
        "*   KNN\n",
        "*   Random Forest\n",
        "*   XGBoost\n",
        "\n",
        "\n",
        "\n",
        "\n",
        "\n",
        "\n"
      ],
      "metadata": {
        "id": "uAfOBDZKe422"
      }
    },
    {
      "cell_type": "markdown",
      "source": [
        "Create a function for models and evaluate them"
      ],
      "metadata": {
        "id": "0C69BuyJfDqA"
      }
    },
    {
      "cell_type": "code",
      "source": [
        "encode_categorical_columns =['sex', 'dataset', 'cp', 'fbs', 'restecg', 'exang', 'slope', 'thal']\n"
      ],
      "metadata": {
        "id": "SVeJuhBqo8Cy"
      },
      "execution_count": null,
      "outputs": []
    },
    {
      "cell_type": "code",
      "source": [
        "\n",
        " #split the data into X and y\n",
        "X= df.drop('num', axis=1)\n",
        "y = df['num']\n",
        "def evaluate_classification_models(X, y, encode_categorical_columns):\n",
        "    # Encode categorical columns\n",
        "    X_encoded = X.copy()\n",
        "\n",
        "\n",
        "    label_encoders = {}\n",
        "    for col in encode_categorical_columns:\n",
        "        label_encoders[col] = LabelEncoder()\n",
        "        X_encoded[col] = label_encoders[col].fit_transform(X[col])\n",
        "\n",
        "\n",
        "\n",
        "    # Split data into train and test sets\n",
        "    X_train, X_test, y_train, y_test = train_test_split(X_encoded, y, test_size=0.2, random_state=42)\n",
        "\n",
        "    # Define models\n",
        "    models = {\n",
        "        \"KNN\": KNeighborsClassifier(),\n",
        "        \"Random Forest\": RandomForestClassifier(),\n",
        "        \"XGBoost\": XGBClassifier(),\n",
        "    }\n",
        "\n",
        "    # Train and evaluate models\n",
        "    results = {}\n",
        "    best_model_name = None\n",
        "    best_model_object = None\n",
        "    best_accuracy = 0.0\n",
        "    for name, model in models.items():\n",
        "        model.fit(X_train, y_train)\n",
        "        y_pred = model.predict(X_test)\n",
        "\n",
        "        accuracy = accuracy_score(y_test, y_pred)\n",
        "        results[name] = accuracy\n",
        "        print(f\"Model: {name}, Accuracy: {accuracy:.4f}\")  # Print each model's accuracy\n",
        "        if accuracy > best_accuracy:\n",
        "            best_accuracy = accuracy\n",
        "            best_model_name = name\n",
        "            best_model_object = model\n",
        "\n",
        "    print(f\"Best Model: {best_model_name}, Accuracy: {best_accuracy:.4f}\")  # Print best model and its accuracy\n",
        "\n",
        "\n",
        "\n",
        "\n",
        "\n",
        "    return results, best_model_name, best_model_object, X_train, y_train\n",
        "\n",
        "\n",
        "\n",
        "# Example usage (assuming you have your dataset X, y, and the categorical columns)\n",
        "results, best_model_name, best_model_object, X_train, y_train = evaluate_classification_models(X, y, encode_categorical_columns)\n",
        "\n",
        "\n",
        "\n",
        "\n",
        "\n",
        "\n"
      ],
      "metadata": {
        "id": "UdLa_0uEfgRY",
        "colab": {
          "base_uri": "https://localhost:8080/"
        },
        "outputId": "4ddcb548-c642-4b0b-d9be-c0074d4f665b"
      },
      "execution_count": null,
      "outputs": [
        {
          "output_type": "stream",
          "name": "stdout",
          "text": [
            "Model: KNN, Accuracy: 0.7168\n",
            "Model: Random Forest, Accuracy: 0.7257\n",
            "Model: XGBoost, Accuracy: 0.7434\n",
            "Best Model: XGBoost, Accuracy: 0.7434\n"
          ]
        }
      ]
    },
    {
      "cell_type": "markdown",
      "source": [
        "The Targeted column is num which is the predicted attribute. We will use this column to predict the heart disease. The unique values in this column are: [0,1,2,3,4], which states that there are 5 types of heart diseases.\n",
        "\n",
        "0 = no heart disease. 1 = Mild Heart Disease types. 2 = Moderate Heart Disease type. 3 = Severe Heart Disease type. 4 = Critical Heart Disease type."
      ],
      "metadata": {
        "id": "iOU2qfxByN08"
      }
    },
    {
      "cell_type": "code",
      "source": [
        "# Make predictions on new data\n",
        "my_input=(1,63,1,0,3,145,233,1,0,150,0,2.3,0,0,0)\n",
        "input_data_as_numpy_array= np.asarray(my_input)\n",
        "input_data_reshaped = input_data_as_numpy_array.reshape(1,-1)\n",
        "\n",
        "model = RandomForestClassifier()\n",
        "model.fit(X_train, y_train)\n",
        "prediction = model.predict(input_data_reshaped)\n",
        "# print('New predicted value :'+ str(z_pred))\n",
        "# Print prediction result\n",
        "if prediction[0] == 0:\n",
        "    print('The Person does not have Heart Disease')\n",
        "elif prediction[0] == 1:\n",
        "    print('The Person has Mild Heart Disease')\n",
        "elif prediction[0] == 2:\n",
        "    print('The Person has Moderate Heart Disease')\n",
        "elif prediction[0] == 3:\n",
        "    print('The Person has Severe Heart Disease')\n",
        "elif prediction[0] == 4:\n",
        "    print('The Person has Critical Heart Disease')"
      ],
      "metadata": {
        "colab": {
          "base_uri": "https://localhost:8080/"
        },
        "id": "i3pHxu_lBEtz",
        "outputId": "1fc40e42-e6e4-4837-c1da-12500704a433"
      },
      "execution_count": null,
      "outputs": [
        {
          "output_type": "stream",
          "name": "stdout",
          "text": [
            "The Person does not have Heart Disease\n"
          ]
        }
      ]
    },
    {
      "cell_type": "code",
      "source": [
        "\n",
        "\n",
        "\n",
        "#import pandas as pd\n",
        "#import numpy as np\n",
        "#from sklearn.ensemble import RandomForestClassifier\n",
        "#from sklearn.preprocessing import OneHotEncoder\n",
        "#from sklearn.compose import ColumnTransformer\n",
        "#from sklearn.pipeline import Pipeline\n",
        "#from sklearn.model_selection import train_test_split\n",
        "\n",
        "df.drop('id', axis=1, inplace=True)\n",
        "\n",
        "# Specify the target variable\n",
        "target_column = 'num'\n",
        "\n",
        "# Specify the feature columns (all columns except the target column)\n",
        "feature_columns = df.columns.drop(target_column)\n",
        "\n",
        "# Separate features (X) and target (y)\n",
        "X = df[feature_columns]\n",
        "y = df[target_column]\n",
        "\n",
        "# Defining the categorical columns and their encoders\n",
        "categorical_columns = ['sex', 'dataset', 'cp', 'fbs', 'restecg', 'exang', 'slope', 'thal']\n",
        "\n",
        "categorical_pipeline = Pipeline(steps=[\n",
        "    ('onehot', OneHotEncoder(handle_unknown='ignore'))\n",
        "])\n",
        "\n",
        "# ColumnTransformer to apply transformations to the correct columns\n",
        "preprocessor = ColumnTransformer(\n",
        "    transformers=[\n",
        "        ('cat', categorical_pipeline, categorical_columns)\n",
        "    ],\n",
        "    remainder='passthrough'  # For numerical columns to remain unchanged\n",
        ")\n",
        "\n",
        "# Define and fit the model pipeline\n",
        "model = Pipeline(steps=[\n",
        "    ('preprocessor', preprocessor),\n",
        "    ('classifier', RandomForestClassifier())\n",
        "])\n",
        "\n",
        "# Split the data into training and testing sets (optional but recommended)\n",
        "X_train, X_test, y_train, y_test = train_test_split(X, y, test_size=0.2, random_state=42)\n",
        "\n",
        "# Fit the model\n",
        "model.fit(X_train, y_train)\n",
        "\n",
        "# Example new data input as a dictionary\n",
        "new_input_data = {\n",
        "\n",
        "    'age': [63],\n",
        "    'sex': ['Male'],\n",
        "    'dataset': ['Cleveland'],\n",
        "    'cp': ['typical angina'],\n",
        "    'trestbps': [145],\n",
        "    'chol': [233],\n",
        "    'fbs': [True],\n",
        "    'restecg': ['lv hypertrophy'],\n",
        "    'thalch': [150],\n",
        "    'exang': [False],\n",
        "    'oldpeak': [2.3],\n",
        "    'slope': ['downsloping'],\n",
        "    'ca': [0],\n",
        "    'thal': ['fixed defect']\n",
        "}\n",
        "\n",
        "# Convert new input data to DataFrame\n",
        "new_input_df = pd.DataFrame(new_input_data)\n",
        "\n",
        "# Predicting using the model\n",
        "prediction = model.predict(new_input_df)\n",
        "\n",
        "# Print prediction result\n",
        "if prediction[0] == 0:\n",
        "    print('The Person does not have Heart Disease')\n",
        "elif prediction[0] == 1:\n",
        "    print('The Person has Mild Heart Disease')\n",
        "elif prediction[0] == 2:\n",
        "    print('The Person has Moderate Heart Disease')\n",
        "elif prediction[0] == 3:\n",
        "    print('The Person has Severe Heart Disease')\n",
        "elif prediction[0] == 4:\n",
        "    print('The Person has Critical Heart Disease')\n"
      ],
      "metadata": {
        "colab": {
          "base_uri": "https://localhost:8080/"
        },
        "id": "yOznQaD3CLZT",
        "outputId": "780b154e-8ca2-4ec8-93af-3caa9514481c"
      },
      "execution_count": null,
      "outputs": [
        {
          "output_type": "stream",
          "name": "stdout",
          "text": [
            "The Person does not have Heart Disease\n"
          ]
        }
      ]
    },
    {
      "cell_type": "code",
      "source": [
        "# Specify the target variable\n",
        "target_column = 'num'\n",
        "\n",
        "# Specify the feature columns (all columns except the target column)\n",
        "feature_columns = df.columns.drop(target_column)\n",
        "\n",
        "# Separate features (X) and target (y)\n",
        "X = df[feature_columns]\n",
        "y = df[target_column]\n",
        "\n",
        "# Defining the categorical columns and their encoders\n",
        "categorical_columns = ['sex', 'dataset', 'cp', 'fbs', 'restecg', 'exang', 'slope', 'thal']\n",
        "\n",
        "categorical_pipeline = Pipeline(steps=[\n",
        "    ('onehot', OneHotEncoder(handle_unknown='ignore'))\n",
        "])\n",
        "\n",
        "# ColumnTransformer to apply transformations to the correct columns\n",
        "preprocessor = ColumnTransformer(\n",
        "    transformers=[\n",
        "        ('cat', categorical_pipeline, categorical_columns)\n",
        "    ],\n",
        "    remainder='passthrough'  # For numerical columns to remain unchanged\n",
        ")\n",
        "\n",
        "# Define and fit the model pipeline\n",
        "model = Pipeline(steps=[\n",
        "    ('preprocessor', preprocessor),\n",
        "    ('classifier', RandomForestClassifier())\n",
        "])\n",
        "\n",
        "# Split the data into training and testing sets (optional but recommended)\n",
        "X_train, X_test, y_train, y_test = train_test_split(X, y, test_size=0.2, random_state=42)\n",
        "\n",
        "# Fit the model\n",
        "model.fit(X_train, y_train)\n",
        "\n",
        "# Example new data input as a dictionary\n",
        "new_input_data = {\n",
        "\n",
        "    'age': [58],\n",
        "    'sex': ['Male'],\n",
        "    'dataset': ['Cleveland'],\n",
        "    'cp': ['atypical angina'],\n",
        "    'trestbps': [120],\n",
        "    'chol': [284],\n",
        "    'fbs': ['FALSE'],\n",
        "    'restecg': ['lv hypertrophy'],\n",
        "    'thalch': [160],\n",
        "    'exang': ['FALSE'],\n",
        "    'oldpeak': [1.8],\n",
        "    'slope': ['flat'],\n",
        "    'ca': [0],\n",
        "    'thal': ['normal']\n",
        "}\n",
        "#3,67,Male,Cleveland,asymptomatic,120,229,FALSE,lv hypertrophy,129,TRUE,2.6,flat,2,reversable defect\n",
        "# Convert new input data to DataFrame\n",
        "new_input_df = pd.DataFrame(new_input_data)\n",
        "\n",
        "# Predicting using the model\n",
        "prediction = model.predict(new_input_df)\n",
        "\n",
        "# Print prediction result\n",
        "if prediction[0] == 0:\n",
        "    print('The Person does not have Heart Disease')\n",
        "elif prediction[0] == 1:\n",
        "    print('The Person has Mild Heart Disease')\n",
        "elif prediction[0] == 2:\n",
        "    print('The Person has Moderate Heart Disease')\n",
        "elif prediction[0] == 3:\n",
        "    print('The Person has Severe Heart Disease')\n",
        "elif prediction[0] == 4:\n",
        "    print('The Person has Critical Heart Disease')\n"
      ],
      "metadata": {
        "id": "lqM-rXZoIPV0",
        "colab": {
          "base_uri": "https://localhost:8080/"
        },
        "outputId": "eb97c857-f450-40a2-c962-e17eae23a4bb"
      },
      "execution_count": null,
      "outputs": [
        {
          "output_type": "stream",
          "name": "stdout",
          "text": [
            "The Person has Mild Heart Disease\n"
          ]
        }
      ]
    },
    {
      "cell_type": "markdown",
      "source": [
        "23,58,Male,Cleveland,atypical angina,120,284,FALSE,lv hypertrophy,160,FALSE,1.8,flat,0,normal,1\n"
      ],
      "metadata": {
        "id": "hqi8uCtjycIk"
      }
    },
    {
      "cell_type": "code",
      "source": [
        "# Specify the target variable\n",
        "target_column = 'num'\n",
        "\n",
        "# Specify the feature columns (all columns except the target column)\n",
        "feature_columns = df.columns.drop(target_column)\n",
        "\n",
        "# Separate features (X) and target (y)\n",
        "X = df[feature_columns]\n",
        "y = df[target_column]\n",
        "\n",
        "# Defining the categorical columns and their encoders\n",
        "categorical_columns = ['sex', 'dataset', 'cp', 'fbs', 'restecg', 'exang', 'slope', 'thal']\n",
        "\n",
        "categorical_pipeline = Pipeline(steps=[\n",
        "    ('onehot', OneHotEncoder(handle_unknown='ignore'))\n",
        "])\n",
        "\n",
        "# ColumnTransformer to apply transformations to the correct columns\n",
        "preprocessor = ColumnTransformer(\n",
        "    transformers=[\n",
        "        ('cat', categorical_pipeline, categorical_columns)\n",
        "    ],\n",
        "    remainder='passthrough'  # For numerical columns to remain unchanged\n",
        ")\n",
        "\n",
        "# Define and fit the model pipeline\n",
        "model = Pipeline(steps=[\n",
        "    ('preprocessor', preprocessor),\n",
        "    ('classifier', RandomForestClassifier())\n",
        "])\n",
        "\n",
        "# Split the data into training and testing sets (optional but recommended)\n",
        "X_train, X_test, y_train, y_test = train_test_split(X, y, test_size=0.2, random_state=42)\n",
        "\n",
        "# Fit the model\n",
        "model.fit(X_train, y_train)\n",
        "\n",
        "# Example new data input as a dictionary\n",
        "new_input_data = {\n",
        "\n",
        "    'age': [67],\n",
        "    'sex': ['Male'],\n",
        "    'dataset': ['Cleveland'],\n",
        "    'cp': ['asymptomatic'],\n",
        "    'trestbps': [160],\n",
        "    'chol': [286],\n",
        "    'fbs': ['FALSE'],\n",
        "    'restecg': ['lv hypertrophy'],\n",
        "    'thalch': [108],\n",
        "    'exang': ['TRUE'],\n",
        "    'oldpeak': [1.5],\n",
        "    'slope': ['flat'],\n",
        "    'ca': [2],\n",
        "    'thal': ['normal']\n",
        "}\n",
        "#3,67,Male,Cleveland,asymptomatic,120,229,FALSE,lv hypertrophy,129,TRUE,2.6,flat,2,reversable defect\n",
        "# Convert new input data to DataFrame\n",
        "new_input_df = pd.DataFrame(new_input_data)\n",
        "\n",
        "# Predicting using the model\n",
        "prediction = model.predict(new_input_df)\n",
        "\n",
        "# Print prediction result\n",
        "if prediction[0] == 0:\n",
        "    print('The Person does not have Heart Disease')\n",
        "elif prediction[0] == 1:\n",
        "    print('The Person has Mild Heart Disease')\n",
        "elif prediction[0] == 2:\n",
        "    print('The Person has Moderate Heart Disease')\n",
        "elif prediction[0] == 3:\n",
        "    print('The Person has Severe Heart Disease')\n",
        "elif prediction[0] == 4:\n",
        "    print('The Person has Critical Heart Disease')\n"
      ],
      "metadata": {
        "colab": {
          "base_uri": "https://localhost:8080/"
        },
        "id": "ktjicxRy13LI",
        "outputId": "de84aa37-22d6-4322-9ec3-32602aa13849"
      },
      "execution_count": null,
      "outputs": [
        {
          "output_type": "stream",
          "name": "stdout",
          "text": [
            "The Person has Moderate Heart Disease\n"
          ]
        }
      ]
    },
    {
      "cell_type": "code",
      "source": [
        "# Specify the target variable\n",
        "target_column = 'num'\n",
        "\n",
        "# Specify the feature columns (all columns except the target column)\n",
        "feature_columns = df.columns.drop(target_column)\n",
        "\n",
        "# Separate features (X) and target (y)\n",
        "X = df[feature_columns]\n",
        "y = df[target_column]\n",
        "\n",
        "# Defining the categorical columns and their encoders\n",
        "categorical_columns = ['sex', 'dataset', 'cp', 'fbs', 'restecg', 'exang', 'slope', 'thal']\n",
        "\n",
        "categorical_pipeline = Pipeline(steps=[\n",
        "    ('onehot', OneHotEncoder(handle_unknown='ignore'))\n",
        "])\n",
        "\n",
        "# ColumnTransformer to apply transformations to the correct columns\n",
        "preprocessor = ColumnTransformer(\n",
        "    transformers=[\n",
        "        ('cat', categorical_pipeline, categorical_columns)\n",
        "    ],\n",
        "    remainder='passthrough'  # For numerical columns to remain unchanged\n",
        ")\n",
        "\n",
        "# Define and fit the model pipeline\n",
        "model = Pipeline(steps=[\n",
        "    ('preprocessor', preprocessor),\n",
        "    ('classifier', RandomForestClassifier())\n",
        "])\n",
        "\n",
        "# Split the data into training and testing sets (optional but recommended)\n",
        "X_train, X_test, y_train, y_test = train_test_split(X, y, test_size=0.2, random_state=42)\n",
        "\n",
        "# Fit the model\n",
        "model.fit(X_train, y_train)\n",
        "\n",
        "# Example new data input as a dictionary\n",
        "new_input_data = {\n",
        "\n",
        "    'age': [40],\n",
        "    'sex': ['Male'],\n",
        "    'dataset': ['Cleveland'],\n",
        "    'cp': ['asymptomatic'],\n",
        "    'trestbps': [110],\n",
        "    'chol': [167],\n",
        "    'fbs': ['FALSE'],\n",
        "    'restecg': ['lv hypertrophy'],\n",
        "    'thalch': [114],\n",
        "    'exang': ['TRUE'],\n",
        "    'oldpeak': [2],\n",
        "    'slope': ['FLAT'],\n",
        "    'ca': [0],\n",
        "    'thal': ['reversable defect']\n",
        "}\n",
        "#3,67,Male,Cleveland,asymptomatic,120,229,FALSE,lv hypertrophy,129,TRUE,2.6,flat,2,reversable defect\n",
        "# Convert new input data to DataFrame\n",
        "new_input_df = pd.DataFrame(new_input_data)\n",
        "\n",
        "# Predicting using the model\n",
        "prediction = model.predict(new_input_df)\n",
        "\n",
        "# Print prediction result\n",
        "if prediction[0] == 0:\n",
        "    print('The Person does not have Heart Disease')\n",
        "elif prediction[0] == 1:\n",
        "    print('The Person has Mild Heart Disease')\n",
        "elif prediction[0] == 2:\n",
        "    print('The Person has Moderate Heart Disease')\n",
        "elif prediction[0] == 3:\n",
        "    print('The Person has Severe Heart Disease')\n",
        "elif prediction[0] == 4:\n",
        "    print('The Person has Critical Heart Disease')\n"
      ],
      "metadata": {
        "colab": {
          "base_uri": "https://localhost:8080/"
        },
        "id": "5sGApk8u0Zss",
        "outputId": "073752fe-162f-4ed4-916f-fb1323160b42"
      },
      "execution_count": null,
      "outputs": [
        {
          "output_type": "stream",
          "name": "stdout",
          "text": [
            "The Person has Severe Heart Disease\n"
          ]
        }
      ]
    },
    {
      "cell_type": "markdown",
      "source": [
        "30,40,Male,Cleveland,asymptomatic,110,167,FALSE,lv hypertrophy,114,TRUE,2,flat,0,reversable defect,3"
      ],
      "metadata": {
        "id": "DJCBWkZ00a0N"
      }
    },
    {
      "cell_type": "code",
      "source": [
        "# Specify the target variable\n",
        "target_column = 'num'\n",
        "\n",
        "# Specify the feature columns (all columns except the target column)\n",
        "feature_columns = df.columns.drop(target_column)\n",
        "\n",
        "# Separate features (X) and target (y)\n",
        "X = df[feature_columns]\n",
        "y = df[target_column]\n",
        "\n",
        "# Defining the categorical columns and their encoders\n",
        "categorical_columns = ['sex', 'dataset', 'cp', 'fbs', 'restecg', 'exang', 'slope', 'thal']\n",
        "\n",
        "categorical_pipeline = Pipeline(steps=[\n",
        "    ('onehot', OneHotEncoder(handle_unknown='ignore'))\n",
        "])\n",
        "\n",
        "# ColumnTransformer to apply transformations to the correct columns\n",
        "preprocessor = ColumnTransformer(\n",
        "    transformers=[\n",
        "        ('cat', categorical_pipeline, categorical_columns)\n",
        "    ],\n",
        "    remainder='passthrough'  # For numerical columns to remain unchanged\n",
        ")\n",
        "\n",
        "# Define and fit the model pipeline\n",
        "model = Pipeline(steps=[\n",
        "    ('preprocessor', preprocessor),\n",
        "    ('classifier', RandomForestClassifier())\n",
        "])\n",
        "\n",
        "# Split the data into training and testing sets (optional but recommended)\n",
        "X_train, X_test, y_train, y_test = train_test_split(X, y, test_size=0.2, random_state=42)\n",
        "\n",
        "# Fit the model\n",
        "model.fit(X_train, y_train)\n",
        "\n",
        "# Example new data input as a dictionary\n",
        "new_input_data = {\n",
        "\n",
        "    'age': [65],\n",
        "    'sex': ['Female'],\n",
        "    'dataset': ['Cleveland'],\n",
        "    'cp': ['asymptomatic'],\n",
        "    'trestbps': [150],\n",
        "    'chol': [225],\n",
        "    'fbs': ['FALSE'],\n",
        "    'restecg': ['lv hypertrophy'],\n",
        "    'thalch': [114],\n",
        "    'exang': ['FALSE'],\n",
        "    'oldpeak': [1],\n",
        "    'slope': ['flat'],\n",
        "    'ca': [3],\n",
        "    'thal': ['reversible defect']\n",
        "}\n",
        "#3,67,Male,Cleveland,asymptomatic,120,229,FALSE,lv hypertrophy,129,TRUE,2.6,flat,2,reversable defect\n",
        "# Convert new input data to DataFrame\n",
        "new_input_df = pd.DataFrame(new_input_data)\n",
        "\n",
        "# Predicting using the model\n",
        "prediction = model.predict(new_input_df)\n",
        "\n",
        "# Print prediction result\n",
        "if prediction[0] == 0:\n",
        "    print('The Person does not have Heart Disease')\n",
        "elif prediction[0] == 1:\n",
        "    print('The Person has Mild Heart Disease')\n",
        "elif prediction[0] == 2:\n",
        "    print('The Person has Moderate Heart Disease')\n",
        "elif prediction[0] == 3:\n",
        "    print('The Person has Severe Heart Disease')\n",
        "elif prediction[0] == 4:\n",
        "    print('The Person has Critical Heart Disease')"
      ],
      "metadata": {
        "colab": {
          "base_uri": "https://localhost:8080/"
        },
        "id": "UOO3UAlL59rI",
        "outputId": "691f3ed1-0175-4e75-f402-26327cb5a397"
      },
      "execution_count": null,
      "outputs": [
        {
          "output_type": "stream",
          "name": "stdout",
          "text": [
            "The Person has Critical Heart Disease\n"
          ]
        }
      ]
    },
    {
      "cell_type": "code",
      "source": [],
      "metadata": {
        "id": "0wd4NczG9ogp"
      },
      "execution_count": null,
      "outputs": []
    },
    {
      "cell_type": "markdown",
      "source": [
        ",65,Female,Cleveland,asymptomatic,150,225,FALSE,lv hypertrophy,114,FALSE,1,flat,3,reversable defect,4"
      ],
      "metadata": {
        "id": "1y3DO_y54anM"
      }
    }
  ]
}